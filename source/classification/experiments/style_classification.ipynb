{
 "cells": [
  {
   "cell_type": "code",
   "execution_count": 1,
   "metadata": {
    "collapsed": true
   },
   "outputs": [],
   "source": [
    "import numpy as np\n",
    "import pandas as pd \n",
    "import os\n",
    "\n",
    "from sklearn import svm\n",
    "from sklearn.externals import joblib\n",
    "from style_feature import Style_Feature\n",
    "from read_path import load_img"
   ]
  },
  {
   "cell_type": "code",
   "execution_count": 2,
   "metadata": {
    "collapsed": true
   },
   "outputs": [],
   "source": [
    "def     classfify_svm(X, y, max_iter = -1):\n",
    "    clf = svm.SVC(C=1.0, cache_size=200, class_weight=None, coef0=0.0, \\\n",
    "    decision_function_shape='ovr', degree=3, gamma='auto', kernel='linear', max_iter=-1, \\\n",
    "    probability=True, random_state=None, shrinking=True, tol=0.001, verbose=False)\n",
    "    clf.fit(X, y)\n",
    "    return clf    "
   ]
  },
  {
   "cell_type": "code",
   "execution_count": 3,
   "metadata": {
    "collapsed": true
   },
   "outputs": [],
   "source": [
    "def     read_data(data_path, style_obj):\n",
    "    print 'Reading %s' % (data_path)\n",
    "    data = pd.read_csv(data_path)\n",
    "    feature = np.array([style_obj.get_feature(load_img(img_path)) for img_path in data['img_path']])\n",
    "    idx = [i for i in range(len(feature)) if feature[i] is None]\n",
    "    if len(idx) > 0:\n",
    "        feature = np.delete(feature,idx,axis=0)\n",
    "        data = data.drop(data.index[idx])    \n",
    "    return feature, data['label']"
   ]
  },
  {
   "cell_type": "code",
   "execution_count": 4,
   "metadata": {
    "collapsed": true
   },
   "outputs": [],
   "source": [
    "def    run(X, y, mode = 'train', max_iter = -1, modelpath = 'model.pkl'):\n",
    "    if mode == 'train':\n",
    "        print 'Training'\n",
    "        clf = classfify_svm(X, y, max_iter)\n",
    "        print 'Save model as %s ' % modelpath\n",
    "        joblib.dump(clf, modelpath)\n",
    "    else:\n",
    "        clf = joblib.load(modelpath)\n",
    "    pred = clf.predict(X)\n",
    "    print 'Accuracy: ', np.sum(pred == y) * 1.0/len(pred)"
   ]
  },
  {
   "cell_type": "code",
   "execution_count": 5,
   "metadata": {
    "collapsed": true
   },
   "outputs": [],
   "source": [
    "max_iter, f_lab, f_gist = 1000, 1, 0\n",
    "data_path = '/home/anla/Source/example/flickr/flickr_train.csv'\n",
    "model = 'svm_style_class.pkl'"
   ]
  },
  {
   "cell_type": "code",
   "execution_count": 6,
   "metadata": {},
   "outputs": [
    {
     "name": "stdout",
     "output_type": "stream",
     "text": [
      "Reading /home/anla/Source/example/flickr/flickr_train.csv\n"
     ]
    }
   ],
   "source": [
    "style_obj = Style_Feature(lab = f_lab, gist = f_gist)    \n",
    "features, label = read_data(data_path, style_obj)"
   ]
  },
  {
   "cell_type": "code",
   "execution_count": 7,
   "metadata": {},
   "outputs": [
    {
     "name": "stdout",
     "output_type": "stream",
     "text": [
      "(63942, 784)\n"
     ]
    }
   ],
   "source": [
    "data = np.zeros((63942, 784))\n",
    "for i in range(len(features)):\n",
    "    for j in range(len(features[i])):\n",
    "        data[i][j] = features[i][j]\n",
    "print data.shape"
   ]
  },
  {
   "cell_type": "code",
   "execution_count": null,
   "metadata": {},
   "outputs": [
    {
     "name": "stdout",
     "output_type": "stream",
     "text": [
      "Training\n"
     ]
    }
   ],
   "source": [
    "run(data, label, 'train', max_iter = 1000, modelpath = model) "
   ]
  }
 ],
 "metadata": {
  "kernelspec": {
   "display_name": "Python 2",
   "language": "python",
   "name": "python2"
  },
  "language_info": {
   "codemirror_mode": {
    "name": "ipython",
    "version": 2
   },
   "file_extension": ".py",
   "mimetype": "text/x-python",
   "name": "python",
   "nbconvert_exporter": "python",
   "pygments_lexer": "ipython2",
   "version": "2.7.13"
  }
 },
 "nbformat": 4,
 "nbformat_minor": 2
}
