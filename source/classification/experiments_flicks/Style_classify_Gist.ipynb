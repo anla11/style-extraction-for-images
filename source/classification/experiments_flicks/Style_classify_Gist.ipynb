{
 "cells": [
  {
   "cell_type": "code",
   "execution_count": 1,
   "metadata": {
    "collapsed": true
   },
   "outputs": [],
   "source": [
    "import numpy as np\n",
    "import pandas as pd \n",
    "import os\n",
    "\n",
    "from sklearn import svm\n",
    "from sklearn.externals import joblib\n",
    "from style_feature import Style_Feature\n",
    "from read_path import load_img"
   ]
  },
  {
   "cell_type": "code",
   "execution_count": 2,
   "metadata": {
    "collapsed": true
   },
   "outputs": [],
   "source": [
    "def     classfify_svm(X, y, max_iter = -1):\n",
    "    clf = svm.SVC(C=1.0, cache_size=200, class_weight=None, coef0=0.0, \\\n",
    "    decision_function_shape='ovr', degree=3, gamma='auto', kernel='linear', max_iter=-1, \\\n",
    "    probability=True, random_state=None, shrinking=True, tol=0.001, verbose=False)\n",
    "    clf.fit(X, y)\n",
    "    return clf    "
   ]
  },
  {
   "cell_type": "code",
   "execution_count": 3,
   "metadata": {
    "collapsed": true
   },
   "outputs": [],
   "source": [
    "def    run(X, y, mode = 'train', max_iter = -1, modelpath = 'model.pkl'):\n",
    "    if mode == 'train':\n",
    "        print 'Training'\n",
    "        clf = classfify_svm(X, y, max_iter)\n",
    "        print 'Save model as %s ' % modelpath\n",
    "        joblib.dump(clf, modelpath)\n",
    "    else:\n",
    "        clf = joblib.load(modelpath)\n",
    "    pred = clf.predict(X)\n",
    "    print 'Accuracy: ', np.sum(pred == y) * 1.0/len(pred)"
   ]
  },
  {
   "cell_type": "code",
   "execution_count": 4,
   "metadata": {
    "collapsed": true
   },
   "outputs": [],
   "source": [
    "max_iter, f_lab, f_gist = 1000, 0, 1\n",
    "data_path = '/home/anla/Source/example/flickr/flickr_train.csv'\n",
    "model = 'svm_style_class_gist.pkl'"
   ]
  },
  {
   "cell_type": "code",
   "execution_count": 5,
   "metadata": {
    "collapsed": true
   },
   "outputs": [],
   "source": [
    "def     read_data(data_path, style_obj):\n",
    "    print 'Reading %s' % (data_path)\n",
    "    data = pd.read_csv(data_path)\n",
    "    index = range(len(data))\n",
    "    np.random.shuffle(index)\n",
    "    index = index[:10000]\n",
    "\n",
    "    feature = np.array([style_obj.get_feature(load_img(data['img_path'][i])) for i in index])\n",
    "    label = np.array(data.iloc[index]['label'])\n",
    "    drop_idx = [i for i in range(len(feature)) if feature[i] is None]\n",
    "\n",
    "    if len(drop_idx) > 0:\n",
    "        feature = np.delete(feature,drop_idx,axis=0)\n",
    "        label = np.delete(label,drop_idx,axis=0)\n",
    "        \n",
    "    return feature, label"
   ]
  },
  {
   "cell_type": "code",
   "execution_count": 6,
   "metadata": {
    "scrolled": false
   },
   "outputs": [
    {
     "name": "stdout",
     "output_type": "stream",
     "text": [
      "Reading /home/anla/Source/example/flickr/flickr_train.csv\n"
     ]
    },
    {
     "name": "stderr",
     "output_type": "stream",
     "text": [
      "/home/anla/Apps/anaconda2/lib/python2.7/site-packages/skimage/transform/_warps.py:84: UserWarning: The default mode, 'constant', will be changed to 'reflect' in skimage 0.15.\n",
      "  warn(\"The default mode, 'constant', will be changed to 'reflect' in \"\n"
     ]
    }
   ],
   "source": [
    "style_obj = Style_Feature(lab = f_lab, gist = f_gist)    \n",
    "features, label = read_data(data_path, style_obj)"
   ]
  },
  {
   "cell_type": "code",
   "execution_count": 7,
   "metadata": {},
   "outputs": [
    {
     "name": "stdout",
     "output_type": "stream",
     "text": [
      "9991 9991\n"
     ]
    }
   ],
   "source": [
    "print len(features), len(label)"
   ]
  },
  {
   "cell_type": "code",
   "execution_count": 8,
   "metadata": {},
   "outputs": [
    {
     "data": {
      "text/plain": [
       "[{'style_Bokeh': 535},\n",
       " {'style_Bright': 469},\n",
       " {'style_Depth_of_Field': 506},\n",
       " {'style_Detailed': 492},\n",
       " {'style_Ethereal': 505},\n",
       " {'style_Geometric_Composition': 502},\n",
       " {'style_HDR': 515},\n",
       " {'style_Hazy': 488},\n",
       " {'style_Horror': 484},\n",
       " {'style_Long_Exposure': 456},\n",
       " {'style_Macro': 448},\n",
       " {'style_Melancholy': 509},\n",
       " {'style_Minimal': 489},\n",
       " {'style_Noir': 512},\n",
       " {'style_Pastel': 526},\n",
       " {'style_Romantic': 508},\n",
       " {'style_Serene': 515},\n",
       " {'style_Sunny': 526},\n",
       " {'style_Texture': 514},\n",
       " {'style_Vintage': 492}]"
      ]
     },
     "execution_count": 8,
     "metadata": {},
     "output_type": "execute_result"
    }
   ],
   "source": [
    "[{i: np.sum(label == i)} for i in np.unique(label)]"
   ]
  },
  {
   "cell_type": "code",
   "execution_count": 9,
   "metadata": {},
   "outputs": [
    {
     "name": "stdout",
     "output_type": "stream",
     "text": [
      "(9991, 784)\n"
     ]
    }
   ],
   "source": [
    "data = np.zeros((len(features), 784))\n",
    "for i in range(len(label)):\n",
    "    for j in range(len(features[i])):\n",
    "        data[i][j] = features[i][j]\n",
    "print data.shape"
   ]
  },
  {
   "cell_type": "code",
   "execution_count": 10,
   "metadata": {
    "scrolled": false
   },
   "outputs": [
    {
     "name": "stdout",
     "output_type": "stream",
     "text": [
      "Training\n",
      "Save model as svm_style_class_gist.pkl \n",
      "Accuracy:  0.225603042738\n"
     ]
    }
   ],
   "source": [
    "run(data, label, 'train', max_iter = 10, modelpath = model) "
   ]
  },
  {
   "cell_type": "code",
   "execution_count": 11,
   "metadata": {},
   "outputs": [
    {
     "name": "stdout",
     "output_type": "stream",
     "text": [
      "Training\n",
      "Save model as svm_style_class_gist.pkl \n",
      "Accuracy:  0.225603042738\n"
     ]
    }
   ],
   "source": [
    "run(data, label, 'train', max_iter = 100, modelpath = model) "
   ]
  },
  {
   "cell_type": "code",
   "execution_count": 12,
   "metadata": {},
   "outputs": [
    {
     "name": "stdout",
     "output_type": "stream",
     "text": [
      "Training\n",
      "Save model as svm_style_class_gist.pkl \n",
      "Accuracy:  0.225603042738\n"
     ]
    }
   ],
   "source": [
    "run(data, label, 'train', max_iter = 1000, modelpath = model) "
   ]
  }
 ],
 "metadata": {
  "kernelspec": {
   "display_name": "Python 2",
   "language": "python",
   "name": "python2"
  },
  "language_info": {
   "codemirror_mode": {
    "name": "ipython",
    "version": 2
   },
   "file_extension": ".py",
   "mimetype": "text/x-python",
   "name": "python",
   "nbconvert_exporter": "python",
   "pygments_lexer": "ipython2",
   "version": "2.7.13"
  }
 },
 "nbformat": 4,
 "nbformat_minor": 2
}
