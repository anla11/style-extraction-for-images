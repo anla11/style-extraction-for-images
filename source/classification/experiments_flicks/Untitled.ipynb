{
 "cells": [
  {
   "cell_type": "code",
   "execution_count": 1,
   "metadata": {},
   "outputs": [],
   "source": [
    "import numpy as np\n",
    "import pandas as pd \n",
    "import os\n",
    "\n",
    "from sklearn import svm\n",
    "from sklearn.externals import joblib\n",
    "from style_feature import Style_Feature\n",
    "from read_path import load_img"
   ]
  },
  {
   "cell_type": "code",
   "execution_count": 37,
   "metadata": {
    "collapsed": true
   },
   "outputs": [],
   "source": [
    "def     classfify_svm(X, y, kernel = 'rbf', max_iter = -1):\n",
    "    clf = svm.SVC(C=1.0, cache_size=200, class_weight=None, coef0=0.0, \\\n",
    "    decision_function_shape='ovr', degree=3, gamma='auto', kernel='linear', max_iter=-1, \\\n",
    "    probability=True, random_state=None, shrinking=True, tol=0.001, verbose=False)\n",
    "    clf.fit(X, y)\n",
    "    return clf    "
   ]
  },
  {
   "cell_type": "code",
   "execution_count": 3,
   "metadata": {
    "collapsed": true
   },
   "outputs": [],
   "source": [
    "def     read_data(data_path, style_obj):\n",
    "    print 'Reading %s' % (data_path)\n",
    "    data = pd.read_csv(data_path)\n",
    "#     np.random.shuffle(data)\n",
    "    feature = np.array([style_obj.get_feature(load_img(img_path)) for img_path in data['img_path']])\n",
    "    idx = [i for i in range(len(feature)) if feature[i] is None]\n",
    "    if len(idx) > 0:\n",
    "        feature = np.delete(feature,idx,axis=0)\n",
    "        data = data.drop(data.index[idx])    \n",
    "    return feature, data['label']"
   ]
  },
  {
   "cell_type": "code",
   "execution_count": 4,
   "metadata": {
    "collapsed": true
   },
   "outputs": [],
   "source": [
    "def    run(X, y, mode = 'train', max_iter = -1, modelpath = 'model.pkl'):\n",
    "    if mode == 'train':\n",
    "        print 'Training'\n",
    "        clf = classfify_svm(X, y, max_iter)\n",
    "        print 'Save model as %s ' % modelpath\n",
    "        joblib.dump(clf, modelpath)\n",
    "    else:\n",
    "        clf = joblib.load(modelpath)\n",
    "    pred = clf.predict(X)\n",
    "    print 'Accuracy: ', np.sum(pred == y) * 1.0/len(pred)"
   ]
  },
  {
   "cell_type": "code",
   "execution_count": 5,
   "metadata": {
    "collapsed": true
   },
   "outputs": [],
   "source": [
    "max_iter, f_lab, f_gist = 1, 1, 0\n",
    "data_path = '/home/anla/Source/example/flickr/flickr_train.csv'\n",
    "model = 'svm_style_class_2.pkl'"
   ]
  },
  {
   "cell_type": "code",
   "execution_count": 6,
   "metadata": {},
   "outputs": [
    {
     "name": "stdout",
     "output_type": "stream",
     "text": [
      "Reading /home/anla/Source/example/flickr/flickr_train.csv\n"
     ]
    }
   ],
   "source": [
    "style_obj = Style_Feature(lab = f_lab, gist = f_gist)    \n",
    "features, label = read_data(data_path, style_obj)"
   ]
  },
  {
   "cell_type": "code",
   "execution_count": 7,
   "metadata": {},
   "outputs": [
    {
     "name": "stdout",
     "output_type": "stream",
     "text": [
      "(42434, 784)\n"
     ]
    }
   ],
   "source": [
    "data = np.zeros((len(features), 784))\n",
    "for i in range(len(features)):\n",
    "    for j in range(len(features[i])):\n",
    "        data[i][j] = features[i][j]\n",
    "print data.shape"
   ]
  },
  {
   "cell_type": "code",
   "execution_count": 8,
   "metadata": {},
   "outputs": [
    {
     "name": "stdout",
     "output_type": "stream",
     "text": [
      "Training\n",
      "Save model as svm_style_class_2.pkl \n",
      "Accuracy:  0.0856860065042\n"
     ]
    }
   ],
   "source": [
    "run(data, label, 'train', max_iter = 100, modelpath = model) "
   ]
  },
  {
   "cell_type": "code",
   "execution_count": 21,
   "metadata": {},
   "outputs": [
    {
     "name": "stdout",
     "output_type": "stream",
     "text": [
      "nan\n"
     ]
    }
   ],
   "source": [
    "idx = range(len(data))\n",
    "np.random.shuffle(idx)\n",
    "# data2 = data[idx]\n",
    "# label2 = label[idx]\n",
    "print label2[0]"
   ]
  },
  {
   "cell_type": "code",
   "execution_count": 25,
   "metadata": {},
   "outputs": [
    {
     "name": "stdout",
     "output_type": "stream",
     "text": [
      "20813    style_Long_Exposure\n",
      "48868            style_Macro\n",
      "Name: label, dtype: object\n"
     ]
    }
   ],
   "source": [
    "label2 = label.iloc[idx]\n",
    "print label2[:2]"
   ]
  },
  {
   "cell_type": "code",
   "execution_count": 26,
   "metadata": {},
   "outputs": [
    {
     "name": "stdout",
     "output_type": "stream",
     "text": [
      "Training\n",
      "Save model as svm_style_class_2.pkl \n",
      "Accuracy:  0.14\n"
     ]
    }
   ],
   "source": [
    "run(data2[:100], label2[:100], 'train', max_iter = 10, modelpath = model) "
   ]
  },
  {
   "cell_type": "code",
   "execution_count": 28,
   "metadata": {},
   "outputs": [
    {
     "name": "stdout",
     "output_type": "stream",
     "text": [
      "Training\n",
      "Save model as svm_style_class_2.pkl \n",
      "Accuracy:  0.084\n"
     ]
    }
   ],
   "source": [
    "run(data2[:1000], label2[:1000], 'train', max_iter = 100, modelpath = model) "
   ]
  },
  {
   "cell_type": "code",
   "execution_count": 31,
   "metadata": {},
   "outputs": [
    {
     "name": "stdout",
     "output_type": "stream",
     "text": [
      "Training\n",
      "Save model as svm_style_class_2_tmp.pkl \n",
      "Accuracy:  0.0671\n"
     ]
    }
   ],
   "source": [
    "model = 'svm_style_class_2_tmp.pkl'\n",
    "run(data2[:10000], label2[:10000], 'train', max_iter = 1000, modelpath = model) "
   ]
  },
  {
   "cell_type": "code",
   "execution_count": 35,
   "metadata": {},
   "outputs": [
    {
     "name": "stdout",
     "output_type": "stream",
     "text": [
      "Training\n",
      "Save model as svm_style_class_2_tmp2.pkl \n",
      "Accuracy:  0.064\n"
     ]
    }
   ],
   "source": [
    "model = 'svm_style_class_2_tmp2.pkl'\n",
    "run(data2[:10000], label2[:10000], 'train', max_iter = 1000, modelpath = model) "
   ]
  },
  {
   "cell_type": "code",
   "execution_count": 38,
   "metadata": {},
   "outputs": [
    {
     "name": "stdout",
     "output_type": "stream",
     "text": [
      "Training\n",
      "Save model as svm_style_class_2_tmp2.pkl \n",
      "Accuracy:  0.0647829570627\n"
     ]
    }
   ],
   "source": [
    "model = 'svm_style_class_2_tmp2.pkl'\n",
    "run(data2, label2, 'train', max_iter = 1000, modelpath = model) "
   ]
  }
 ],
 "metadata": {
  "kernelspec": {
   "display_name": "Python 2",
   "language": "python",
   "name": "python2"
  },
  "language_info": {
   "codemirror_mode": {
    "name": "ipython",
    "version": 2
   },
   "file_extension": ".py",
   "mimetype": "text/x-python",
   "name": "python",
   "nbconvert_exporter": "python",
   "pygments_lexer": "ipython2",
   "version": "2.7.13"
  }
 },
 "nbformat": 4,
 "nbformat_minor": 2
}
