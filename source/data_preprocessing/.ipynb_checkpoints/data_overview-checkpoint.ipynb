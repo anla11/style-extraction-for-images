{
 "cells": [
  {
   "cell_type": "code",
   "execution_count": 1,
   "metadata": {
    "collapsed": true
   },
   "outputs": [],
   "source": [
    "import numpy as np\n",
    "from random import shuffle\n",
    "import re \n",
    "import pandas as pd"
   ]
  },
  {
   "cell_type": "code",
   "execution_count": 2,
   "metadata": {},
   "outputs": [
    {
     "data": {
      "text/html": [
       "<div>\n",
       "<style>\n",
       "    .dataframe thead tr:only-child th {\n",
       "        text-align: right;\n",
       "    }\n",
       "\n",
       "    .dataframe thead th {\n",
       "        text-align: left;\n",
       "    }\n",
       "\n",
       "    .dataframe tbody tr th {\n",
       "        vertical-align: top;\n",
       "    }\n",
       "</style>\n",
       "<table border=\"1\" class=\"dataframe\">\n",
       "  <thead>\n",
       "    <tr style=\"text-align: right;\">\n",
       "      <th></th>\n",
       "      <th>img_name</th>\n",
       "      <th>img_path</th>\n",
       "      <th>img_type</th>\n",
       "      <th>video_id</th>\n",
       "      <th>videos.type</th>\n",
       "      <th>structure.type</th>\n",
       "    </tr>\n",
       "  </thead>\n",
       "  <tbody>\n",
       "    <tr>\n",
       "      <th>0</th>\n",
       "      <td>big___12_02_2015___daigiadinh12-02-2015_09g20-...</td>\n",
       "      <td>/home/anla/Source/data/images/videos/550010a31...</td>\n",
       "      <td>big</td>\n",
       "      <td>550010a317dc1326437376fd</td>\n",
       "      <td>TV show</td>\n",
       "      <td>TV show</td>\n",
       "    </tr>\n",
       "    <tr>\n",
       "      <th>1</th>\n",
       "      <td>Dai_gia_dinh___12_02_2015___daigiadinh12-02-20...</td>\n",
       "      <td>/home/anla/Source/data/images/videos/550010a31...</td>\n",
       "      <td>unknown</td>\n",
       "      <td>550010a317dc1326437376fd</td>\n",
       "      <td>TV show</td>\n",
       "      <td>TV show</td>\n",
       "    </tr>\n",
       "    <tr>\n",
       "      <th>2</th>\n",
       "      <td>small___12_02_2015___daigiadinh12-02-2015_09g2...</td>\n",
       "      <td>/home/anla/Source/data/images/videos/550010a31...</td>\n",
       "      <td>small</td>\n",
       "      <td>550010a317dc1326437376fd</td>\n",
       "      <td>TV show</td>\n",
       "      <td>TV show</td>\n",
       "    </tr>\n",
       "    <tr>\n",
       "      <th>3</th>\n",
       "      <td>small___09_06_2015___dang_nam3_zing09-06-2015_...</td>\n",
       "      <td>/home/anla/Source/data/images/videos/5576a10a1...</td>\n",
       "      <td>small</td>\n",
       "      <td>5576a10a17dc1328689cf1b8</td>\n",
       "      <td>the-thao</td>\n",
       "      <td>the-thao</td>\n",
       "    </tr>\n",
       "    <tr>\n",
       "      <th>4</th>\n",
       "      <td>Tap_1___09_06_2015___dang_nam3_zing09-06-2015_...</td>\n",
       "      <td>/home/anla/Source/data/images/videos/5576a10a1...</td>\n",
       "      <td>series</td>\n",
       "      <td>5576a10a17dc1328689cf1b8</td>\n",
       "      <td>the-thao</td>\n",
       "      <td>the-thao</td>\n",
       "    </tr>\n",
       "  </tbody>\n",
       "</table>\n",
       "</div>"
      ],
      "text/plain": [
       "                                            img_name  \\\n",
       "0  big___12_02_2015___daigiadinh12-02-2015_09g20-...   \n",
       "1  Dai_gia_dinh___12_02_2015___daigiadinh12-02-20...   \n",
       "2  small___12_02_2015___daigiadinh12-02-2015_09g2...   \n",
       "3  small___09_06_2015___dang_nam3_zing09-06-2015_...   \n",
       "4  Tap_1___09_06_2015___dang_nam3_zing09-06-2015_...   \n",
       "\n",
       "                                            img_path img_type  \\\n",
       "0  /home/anla/Source/data/images/videos/550010a31...      big   \n",
       "1  /home/anla/Source/data/images/videos/550010a31...  unknown   \n",
       "2  /home/anla/Source/data/images/videos/550010a31...    small   \n",
       "3  /home/anla/Source/data/images/videos/5576a10a1...    small   \n",
       "4  /home/anla/Source/data/images/videos/5576a10a1...   series   \n",
       "\n",
       "                   video_id videos.type structure.type  \n",
       "0  550010a317dc1326437376fd     TV show        TV show  \n",
       "1  550010a317dc1326437376fd     TV show        TV show  \n",
       "2  550010a317dc1326437376fd     TV show        TV show  \n",
       "3  5576a10a17dc1328689cf1b8    the-thao       the-thao  \n",
       "4  5576a10a17dc1328689cf1b8    the-thao       the-thao  "
      ]
     },
     "execution_count": 2,
     "metadata": {},
     "output_type": "execute_result"
    }
   ],
   "source": [
    "data_df = pd.read_csv('data.csv')\n",
    "data_df.drop(data_df.columns[[0]], axis=1, inplace = True)  \n",
    "data_df.head()"
   ]
  },
  {
   "cell_type": "code",
   "execution_count": 3,
   "metadata": {
    "collapsed": true
   },
   "outputs": [],
   "source": [
    "def count_video(data_df):\n",
    "    return len(data_df.groupby('video_id').nunique())\n",
    "\n",
    "def countvideo_by_imgtype(data_df, img_type):\n",
    "    return len(data_df.loc[np.where(data_df['img_type'] == img_type)[0]].groupby('video_id').nunique()) \n",
    "\n",
    "def count_imgtype(data_df, img_type):\n",
    "    return len(data_df.loc[np.where(data_df['img_type'] == img_type)[0]])"
   ]
  },
  {
   "cell_type": "code",
   "execution_count": 4,
   "metadata": {},
   "outputs": [
    {
     "name": "stdout",
     "output_type": "stream",
     "text": [
      "Number of video: 47801\n",
      "Number of video by image type:  {'small': 47767, 'big': 12480, 'unknown': 26071, 'series': 19355, 'standing': 15343}\n",
      "Number of image by image type:  {'small': 47767, 'big': 12480, 'unknown': 47176, 'series': 267697, 'standing': 15343}\n"
     ]
    }
   ],
   "source": [
    "video_imgtype = dict()\n",
    "imgtype = dict()\n",
    "for img_type in ['small', 'big', 'standing', 'series', 'unknown']:\n",
    "    video_imgtype[img_type] = countvideo_by_imgtype(data_df, img_type)\n",
    "    imgtype[img_type] = count_imgtype(data_df, img_type)\n",
    "print 'Number of video: %d' % count_video(data_df)\n",
    "print 'Number of video by image type: ', video_imgtype\n",
    "print 'Number of image by image type: ', imgtype"
   ]
  },
  {
   "cell_type": "code",
   "execution_count": 5,
   "metadata": {},
   "outputs": [
    {
     "data": {
      "text/html": [
       "<div>\n",
       "<style>\n",
       "    .dataframe thead tr:only-child th {\n",
       "        text-align: right;\n",
       "    }\n",
       "\n",
       "    .dataframe thead th {\n",
       "        text-align: left;\n",
       "    }\n",
       "\n",
       "    .dataframe tbody tr th {\n",
       "        vertical-align: top;\n",
       "    }\n",
       "</style>\n",
       "<table border=\"1\" class=\"dataframe\">\n",
       "  <thead>\n",
       "    <tr style=\"text-align: right;\">\n",
       "      <th></th>\n",
       "      <th>Unnamed: 0</th>\n",
       "      <th>Unnamed: 0.1</th>\n",
       "      <th>img_path</th>\n",
       "      <th>img_type</th>\n",
       "      <th>video_id</th>\n",
       "      <th>videos.type</th>\n",
       "      <th>structure.type</th>\n",
       "    </tr>\n",
       "  </thead>\n",
       "  <tbody>\n",
       "    <tr>\n",
       "      <th>0</th>\n",
       "      <td>0</td>\n",
       "      <td>262144</td>\n",
       "      <td>/home/anla/Source/data/images/videos/587d9c7e1...</td>\n",
       "      <td>series</td>\n",
       "      <td>587d9c7e17dc133d791e7eca</td>\n",
       "      <td>phim-bo</td>\n",
       "      <td>phim-bo</td>\n",
       "    </tr>\n",
       "    <tr>\n",
       "      <th>1</th>\n",
       "      <td>1</td>\n",
       "      <td>262145</td>\n",
       "      <td>/home/anla/Source/data/images/videos/587d9c7e1...</td>\n",
       "      <td>series</td>\n",
       "      <td>587d9c7e17dc133d791e7eca</td>\n",
       "      <td>phim-bo</td>\n",
       "      <td>phim-bo</td>\n",
       "    </tr>\n",
       "    <tr>\n",
       "      <th>2</th>\n",
       "      <td>2</td>\n",
       "      <td>262146</td>\n",
       "      <td>/home/anla/Source/data/images/videos/587d9c7e1...</td>\n",
       "      <td>series</td>\n",
       "      <td>587d9c7e17dc133d791e7eca</td>\n",
       "      <td>phim-bo</td>\n",
       "      <td>phim-bo</td>\n",
       "    </tr>\n",
       "    <tr>\n",
       "      <th>3</th>\n",
       "      <td>3</td>\n",
       "      <td>262147</td>\n",
       "      <td>/home/anla/Source/data/images/videos/587d9c7e1...</td>\n",
       "      <td>series</td>\n",
       "      <td>587d9c7e17dc133d791e7eca</td>\n",
       "      <td>phim-bo</td>\n",
       "      <td>phim-bo</td>\n",
       "    </tr>\n",
       "    <tr>\n",
       "      <th>4</th>\n",
       "      <td>4</td>\n",
       "      <td>262148</td>\n",
       "      <td>/home/anla/Source/data/images/videos/587d9c7e1...</td>\n",
       "      <td>series</td>\n",
       "      <td>587d9c7e17dc133d791e7eca</td>\n",
       "      <td>phim-bo</td>\n",
       "      <td>phim-bo</td>\n",
       "    </tr>\n",
       "  </tbody>\n",
       "</table>\n",
       "</div>"
      ],
      "text/plain": [
       "   Unnamed: 0  Unnamed: 0.1  \\\n",
       "0           0        262144   \n",
       "1           1        262145   \n",
       "2           2        262146   \n",
       "3           3        262147   \n",
       "4           4        262148   \n",
       "\n",
       "                                            img_path img_type  \\\n",
       "0  /home/anla/Source/data/images/videos/587d9c7e1...   series   \n",
       "1  /home/anla/Source/data/images/videos/587d9c7e1...   series   \n",
       "2  /home/anla/Source/data/images/videos/587d9c7e1...   series   \n",
       "3  /home/anla/Source/data/images/videos/587d9c7e1...   series   \n",
       "4  /home/anla/Source/data/images/videos/587d9c7e1...   series   \n",
       "\n",
       "                   video_id videos.type structure.type  \n",
       "0  587d9c7e17dc133d791e7eca     phim-bo        phim-bo  \n",
       "1  587d9c7e17dc133d791e7eca     phim-bo        phim-bo  \n",
       "2  587d9c7e17dc133d791e7eca     phim-bo        phim-bo  \n",
       "3  587d9c7e17dc133d791e7eca     phim-bo        phim-bo  \n",
       "4  587d9c7e17dc133d791e7eca     phim-bo        phim-bo  "
      ]
     },
     "execution_count": 5,
     "metadata": {},
     "output_type": "execute_result"
    }
   ],
   "source": [
    "movie_df = pd.read_csv('movie_all.csv')\n",
    "movie_df.drop(data_df.columns[[0]], axis=1, inplace = True)  \n",
    "movie_df.head()"
   ]
  },
  {
   "cell_type": "code",
   "execution_count": 7,
   "metadata": {},
   "outputs": [
    {
     "name": "stdout",
     "output_type": "stream",
     "text": [
      "Number of video: 9820\n",
      "Number of video by image type:  {'small': 9817, 'big': 6232, 'unknown': 6391, 'series': 3491, 'standing': 9422}\n",
      "Number of image by image type:  {'small': 9817, 'big': 6232, 'unknown': 10081, 'series': 122076, 'standing': 9422}\n"
     ]
    }
   ],
   "source": [
    "video_imgtype = dict()\n",
    "imgtype = dict()\n",
    "for img_type in ['small', 'big', 'standing', 'series', 'unknown']:\n",
    "    video_imgtype[img_type] = countvideo_by_imgtype(movie_df, img_type)\n",
    "    imgtype[img_type] = count_imgtype(movie_df, img_type)\n",
    "print 'Number of video: %d' % count_video(movie_df)\n",
    "print 'Number of video by image type: ', video_imgtype\n",
    "print 'Number of image by image type: ', imgtype"
   ]
  }
 ],
 "metadata": {
  "kernelspec": {
   "display_name": "Python 2",
   "language": "python",
   "name": "python2"
  },
  "language_info": {
   "codemirror_mode": {
    "name": "ipython",
    "version": 2
   },
   "file_extension": ".py",
   "mimetype": "text/x-python",
   "name": "python",
   "nbconvert_exporter": "python",
   "pygments_lexer": "ipython2",
   "version": "2.7.13"
  }
 },
 "nbformat": 4,
 "nbformat_minor": 2
}
