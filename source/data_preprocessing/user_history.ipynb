{
 "cells": [
  {
   "cell_type": "code",
   "execution_count": 1,
   "metadata": {
    "collapsed": true
   },
   "outputs": [],
   "source": [
    "import numpy as np\n",
    "import pandas as pd\n",
    "from datapath_process import get_list_dir, get_list_filedir, get_list_filename"
   ]
  },
  {
   "cell_type": "code",
   "execution_count": 2,
   "metadata": {
    "collapsed": true
   },
   "outputs": [],
   "source": [
    "PATH_ROOT_PROJ = '../..'"
   ]
  },
  {
   "cell_type": "markdown",
   "metadata": {},
   "source": [
    "## Create data"
   ]
  },
  {
   "cell_type": "code",
   "execution_count": 3,
   "metadata": {},
   "outputs": [
    {
     "name": "stdout",
     "output_type": "stream",
     "text": [
      "['../../data/user_data/2017-08-31.csv', '../../data/user_data/2017-08-06.csv', '../../data/user_data/2017-08-18.csv', '../../data/user_data/2017-08-29.csv']\n"
     ]
    }
   ],
   "source": [
    "data_folder = 'data/user_data'\n",
    "all_files = get_list_filedir('%s/%s' % (PATH_ROOT_PROJ, data_folder))\n",
    "print all_files"
   ]
  },
  {
   "cell_type": "code",
   "execution_count": 36,
   "metadata": {
    "scrolled": false
   },
   "outputs": [
    {
     "name": "stdout",
     "output_type": "stream",
     "text": [
      "109782\n"
     ]
    }
   ],
   "source": [
    "def  pre_process(all_files):\n",
    "    usecols = [\"timestamp\", \"receive_time\", \"arg_duid\", \"arg_uid\", \"arg_se_la\", \"arg_se_ca\", \"arg_se_ac\"]\n",
    "    df_all = pd.DataFrame(columns = usecols)\n",
    "\n",
    "    for f in all_files:\n",
    "        df = pd.read_csv(f, header=0, delimiter='\\t', usecols = usecols, dtype = 'str', na_values=[\"null\"])\n",
    "        df_all = df_all.append(df)\n",
    "    df_playvod = df_all.iloc[np.where((df_all['arg_se_ac'] == \"play\") & (df_all['arg_se_ca'] == 'vod'))[0]]\n",
    "    df = df_playvod.dropna(axis=0, how='any', inplace = False).reset_index(drop=True)\n",
    "    del df['arg_se_ca'] \n",
    "    del df['arg_se_ac']\n",
    "    df.columns = ['timestampe', 'receive_time', 'devide_id', 'user_id', 'video_id']\n",
    "    return df\n",
    "df = pre_process(all_files)\n",
    "print len(df)\n",
    "df.head()\n",
    "df.to_csv('files/user_history.csv')"
   ]
  },
  {
   "cell_type": "markdown",
   "metadata": {},
   "source": [
    "## Data overview"
   ]
  },
  {
   "cell_type": "code",
   "execution_count": 74,
   "metadata": {},
   "outputs": [
    {
     "data": {
      "text/html": [
       "<div>\n",
       "<style>\n",
       "    .dataframe thead tr:only-child th {\n",
       "        text-align: right;\n",
       "    }\n",
       "\n",
       "    .dataframe thead th {\n",
       "        text-align: left;\n",
       "    }\n",
       "\n",
       "    .dataframe tbody tr th {\n",
       "        vertical-align: top;\n",
       "    }\n",
       "</style>\n",
       "<table border=\"1\" class=\"dataframe\">\n",
       "  <thead>\n",
       "    <tr style=\"text-align: right;\">\n",
       "      <th></th>\n",
       "      <th>timestampe</th>\n",
       "      <th>receive_time</th>\n",
       "      <th>devide_id</th>\n",
       "      <th>user_id</th>\n",
       "      <th>video_id</th>\n",
       "    </tr>\n",
       "  </thead>\n",
       "  <tbody>\n",
       "    <tr>\n",
       "      <th>43765</th>\n",
       "      <td>2017-08-06 08:43:07</td>\n",
       "      <td>2017-08-06 08:29:03</td>\n",
       "      <td>E017B9E0-22A0-4BDA-880F-D2BDE3437890</td>\n",
       "      <td>009412</td>\n",
       "      <td>55f8e6a417dc130c376404c9</td>\n",
       "    </tr>\n",
       "    <tr>\n",
       "      <th>75153</th>\n",
       "      <td>2017-08-06 08:29:25</td>\n",
       "      <td>2017-08-06 08:28:00</td>\n",
       "      <td>E017B9E0-22A0-4BDA-880F-D2BDE3437890</td>\n",
       "      <td>009412</td>\n",
       "      <td>54ff9f5317dc13264373765a</td>\n",
       "    </tr>\n",
       "    <tr>\n",
       "      <th>92573</th>\n",
       "      <td>2017-08-06 08:24:47</td>\n",
       "      <td>2017-08-06 08:25:38</td>\n",
       "      <td>E017B9E0-22A0-4BDA-880F-D2BDE3437890</td>\n",
       "      <td>009412</td>\n",
       "      <td>54ff9f9717dc132643737677</td>\n",
       "    </tr>\n",
       "    <tr>\n",
       "      <th>94322</th>\n",
       "      <td>2017-08-06 08:44:10</td>\n",
       "      <td>2017-08-06 08:41:53</td>\n",
       "      <td>E017B9E0-22A0-4BDA-880F-D2BDE3437890</td>\n",
       "      <td>009412</td>\n",
       "      <td>55f8e6a417dc130c376404c9</td>\n",
       "    </tr>\n",
       "  </tbody>\n",
       "</table>\n",
       "</div>"
      ],
      "text/plain": [
       "                timestampe         receive_time  \\\n",
       "43765  2017-08-06 08:43:07  2017-08-06 08:29:03   \n",
       "75153  2017-08-06 08:29:25  2017-08-06 08:28:00   \n",
       "92573  2017-08-06 08:24:47  2017-08-06 08:25:38   \n",
       "94322  2017-08-06 08:44:10  2017-08-06 08:41:53   \n",
       "\n",
       "                                  devide_id user_id                  video_id  \n",
       "43765  E017B9E0-22A0-4BDA-880F-D2BDE3437890  009412  55f8e6a417dc130c376404c9  \n",
       "75153  E017B9E0-22A0-4BDA-880F-D2BDE3437890  009412  54ff9f5317dc13264373765a  \n",
       "92573  E017B9E0-22A0-4BDA-880F-D2BDE3437890  009412  54ff9f9717dc132643737677  \n",
       "94322  E017B9E0-22A0-4BDA-880F-D2BDE3437890  009412  55f8e6a417dc130c376404c9  "
      ]
     },
     "execution_count": 74,
     "metadata": {},
     "output_type": "execute_result"
    }
   ],
   "source": [
    "df[df['user_id'] == '009412']"
   ]
  },
  {
   "cell_type": "code",
   "execution_count": 73,
   "metadata": {
    "scrolled": true
   },
   "outputs": [
    {
     "data": {
      "text/html": [
       "<div>\n",
       "<style>\n",
       "    .dataframe thead tr:only-child th {\n",
       "        text-align: right;\n",
       "    }\n",
       "\n",
       "    .dataframe thead th {\n",
       "        text-align: left;\n",
       "    }\n",
       "\n",
       "    .dataframe tbody tr th {\n",
       "        vertical-align: top;\n",
       "    }\n",
       "</style>\n",
       "<table border=\"1\" class=\"dataframe\">\n",
       "  <thead>\n",
       "    <tr style=\"text-align: right;\">\n",
       "      <th></th>\n",
       "      <th>timestampe</th>\n",
       "      <th>receive_time</th>\n",
       "      <th>devide_id</th>\n",
       "      <th>video_id</th>\n",
       "    </tr>\n",
       "    <tr>\n",
       "      <th>user_id</th>\n",
       "      <th></th>\n",
       "      <th></th>\n",
       "      <th></th>\n",
       "      <th></th>\n",
       "    </tr>\n",
       "  </thead>\n",
       "  <tbody>\n",
       "    <tr>\n",
       "      <th>000398</th>\n",
       "      <td>1</td>\n",
       "      <td>1</td>\n",
       "      <td>1</td>\n",
       "      <td>1</td>\n",
       "    </tr>\n",
       "    <tr>\n",
       "      <th>000697</th>\n",
       "      <td>3</td>\n",
       "      <td>3</td>\n",
       "      <td>3</td>\n",
       "      <td>3</td>\n",
       "    </tr>\n",
       "    <tr>\n",
       "      <th>001459</th>\n",
       "      <td>5</td>\n",
       "      <td>5</td>\n",
       "      <td>5</td>\n",
       "      <td>5</td>\n",
       "    </tr>\n",
       "    <tr>\n",
       "      <th>001537</th>\n",
       "      <td>6</td>\n",
       "      <td>6</td>\n",
       "      <td>6</td>\n",
       "      <td>6</td>\n",
       "    </tr>\n",
       "    <tr>\n",
       "      <th>003279</th>\n",
       "      <td>1</td>\n",
       "      <td>1</td>\n",
       "      <td>1</td>\n",
       "      <td>1</td>\n",
       "    </tr>\n",
       "    <tr>\n",
       "      <th>004905</th>\n",
       "      <td>1</td>\n",
       "      <td>1</td>\n",
       "      <td>1</td>\n",
       "      <td>1</td>\n",
       "    </tr>\n",
       "    <tr>\n",
       "      <th>005488</th>\n",
       "      <td>1</td>\n",
       "      <td>1</td>\n",
       "      <td>1</td>\n",
       "      <td>1</td>\n",
       "    </tr>\n",
       "    <tr>\n",
       "      <th>007244</th>\n",
       "      <td>1</td>\n",
       "      <td>1</td>\n",
       "      <td>1</td>\n",
       "      <td>1</td>\n",
       "    </tr>\n",
       "    <tr>\n",
       "      <th>008010</th>\n",
       "      <td>1</td>\n",
       "      <td>1</td>\n",
       "      <td>1</td>\n",
       "      <td>1</td>\n",
       "    </tr>\n",
       "    <tr>\n",
       "      <th>009412</th>\n",
       "      <td>4</td>\n",
       "      <td>4</td>\n",
       "      <td>4</td>\n",
       "      <td>4</td>\n",
       "    </tr>\n",
       "  </tbody>\n",
       "</table>\n",
       "</div>"
      ],
      "text/plain": [
       "         timestampe  receive_time  devide_id  video_id\n",
       "user_id                                               \n",
       "000398            1             1          1         1\n",
       "000697            3             3          3         3\n",
       "001459            5             5          5         5\n",
       "001537            6             6          6         6\n",
       "003279            1             1          1         1\n",
       "004905            1             1          1         1\n",
       "005488            1             1          1         1\n",
       "007244            1             1          1         1\n",
       "008010            1             1          1         1\n",
       "009412            4             4          4         4"
      ]
     },
     "execution_count": 73,
     "metadata": {},
     "output_type": "execute_result"
    }
   ],
   "source": [
    "def count_by_userid(df, field):\n",
    "    return df.groupby([field]).count()\n",
    "count_by_userid(df, 'user_id').head(10)"
   ]
  },
  {
   "cell_type": "code",
   "execution_count": 69,
   "metadata": {},
   "outputs": [
    {
     "data": {
      "text/plain": [
       "timestampe      3.345176\n",
       "receive_time    3.345176\n",
       "devide_id       3.345176\n",
       "video_id        3.345176\n",
       "dtype: float64"
      ]
     },
     "execution_count": 69,
     "metadata": {},
     "output_type": "execute_result"
    }
   ],
   "source": [
    "def avg_by_userid(df, field):\n",
    "    return df.groupby([field]).count().mean()\n",
    "avg_by_userid(df, 'user_id')"
   ]
  },
  {
   "cell_type": "code",
   "execution_count": 78,
   "metadata": {},
   "outputs": [],
   "source": [
    "# del df['timestampe']\n",
    "# del df['receive_time']\n",
    "df.drop_duplicates(inplace = True)"
   ]
  },
  {
   "cell_type": "code",
   "execution_count": 79,
   "metadata": {},
   "outputs": [
    {
     "data": {
      "text/html": [
       "<div>\n",
       "<style>\n",
       "    .dataframe thead tr:only-child th {\n",
       "        text-align: right;\n",
       "    }\n",
       "\n",
       "    .dataframe thead th {\n",
       "        text-align: left;\n",
       "    }\n",
       "\n",
       "    .dataframe tbody tr th {\n",
       "        vertical-align: top;\n",
       "    }\n",
       "</style>\n",
       "<table border=\"1\" class=\"dataframe\">\n",
       "  <thead>\n",
       "    <tr style=\"text-align: right;\">\n",
       "      <th></th>\n",
       "      <th>devide_id</th>\n",
       "      <th>video_id</th>\n",
       "    </tr>\n",
       "    <tr>\n",
       "      <th>user_id</th>\n",
       "      <th></th>\n",
       "      <th></th>\n",
       "    </tr>\n",
       "  </thead>\n",
       "  <tbody>\n",
       "    <tr>\n",
       "      <th>000398</th>\n",
       "      <td>1</td>\n",
       "      <td>1</td>\n",
       "    </tr>\n",
       "    <tr>\n",
       "      <th>000697</th>\n",
       "      <td>1</td>\n",
       "      <td>1</td>\n",
       "    </tr>\n",
       "    <tr>\n",
       "      <th>001459</th>\n",
       "      <td>1</td>\n",
       "      <td>1</td>\n",
       "    </tr>\n",
       "    <tr>\n",
       "      <th>001537</th>\n",
       "      <td>3</td>\n",
       "      <td>3</td>\n",
       "    </tr>\n",
       "    <tr>\n",
       "      <th>003279</th>\n",
       "      <td>1</td>\n",
       "      <td>1</td>\n",
       "    </tr>\n",
       "    <tr>\n",
       "      <th>004905</th>\n",
       "      <td>1</td>\n",
       "      <td>1</td>\n",
       "    </tr>\n",
       "    <tr>\n",
       "      <th>005488</th>\n",
       "      <td>1</td>\n",
       "      <td>1</td>\n",
       "    </tr>\n",
       "    <tr>\n",
       "      <th>007244</th>\n",
       "      <td>1</td>\n",
       "      <td>1</td>\n",
       "    </tr>\n",
       "    <tr>\n",
       "      <th>008010</th>\n",
       "      <td>1</td>\n",
       "      <td>1</td>\n",
       "    </tr>\n",
       "    <tr>\n",
       "      <th>009412</th>\n",
       "      <td>3</td>\n",
       "      <td>3</td>\n",
       "    </tr>\n",
       "  </tbody>\n",
       "</table>\n",
       "</div>"
      ],
      "text/plain": [
       "         devide_id  video_id\n",
       "user_id                     \n",
       "000398           1         1\n",
       "000697           1         1\n",
       "001459           1         1\n",
       "001537           3         3\n",
       "003279           1         1\n",
       "004905           1         1\n",
       "005488           1         1\n",
       "007244           1         1\n",
       "008010           1         1\n",
       "009412           3         3"
      ]
     },
     "execution_count": 79,
     "metadata": {},
     "output_type": "execute_result"
    }
   ],
   "source": [
    "count_by_userid(df, 'user_id').head(10)"
   ]
  },
  {
   "cell_type": "code",
   "execution_count": 80,
   "metadata": {},
   "outputs": [
    {
     "data": {
      "text/html": [
       "<div>\n",
       "<style>\n",
       "    .dataframe thead tr:only-child th {\n",
       "        text-align: right;\n",
       "    }\n",
       "\n",
       "    .dataframe thead th {\n",
       "        text-align: left;\n",
       "    }\n",
       "\n",
       "    .dataframe tbody tr th {\n",
       "        vertical-align: top;\n",
       "    }\n",
       "</style>\n",
       "<table border=\"1\" class=\"dataframe\">\n",
       "  <thead>\n",
       "    <tr style=\"text-align: right;\">\n",
       "      <th></th>\n",
       "      <th>devide_id</th>\n",
       "      <th>user_id</th>\n",
       "      <th>video_id</th>\n",
       "    </tr>\n",
       "  </thead>\n",
       "  <tbody>\n",
       "    <tr>\n",
       "      <th>43765</th>\n",
       "      <td>E017B9E0-22A0-4BDA-880F-D2BDE3437890</td>\n",
       "      <td>009412</td>\n",
       "      <td>55f8e6a417dc130c376404c9</td>\n",
       "    </tr>\n",
       "    <tr>\n",
       "      <th>75153</th>\n",
       "      <td>E017B9E0-22A0-4BDA-880F-D2BDE3437890</td>\n",
       "      <td>009412</td>\n",
       "      <td>54ff9f5317dc13264373765a</td>\n",
       "    </tr>\n",
       "    <tr>\n",
       "      <th>92573</th>\n",
       "      <td>E017B9E0-22A0-4BDA-880F-D2BDE3437890</td>\n",
       "      <td>009412</td>\n",
       "      <td>54ff9f9717dc132643737677</td>\n",
       "    </tr>\n",
       "  </tbody>\n",
       "</table>\n",
       "</div>"
      ],
      "text/plain": [
       "                                  devide_id user_id                  video_id\n",
       "43765  E017B9E0-22A0-4BDA-880F-D2BDE3437890  009412  55f8e6a417dc130c376404c9\n",
       "75153  E017B9E0-22A0-4BDA-880F-D2BDE3437890  009412  54ff9f5317dc13264373765a\n",
       "92573  E017B9E0-22A0-4BDA-880F-D2BDE3437890  009412  54ff9f9717dc132643737677"
      ]
     },
     "execution_count": 80,
     "metadata": {},
     "output_type": "execute_result"
    }
   ],
   "source": [
    "df[df['user_id'] == '009412']"
   ]
  },
  {
   "cell_type": "code",
   "execution_count": 81,
   "metadata": {},
   "outputs": [
    {
     "data": {
      "text/plain": [
       "devide_id    1.941496\n",
       "video_id     1.941496\n",
       "dtype: float64"
      ]
     },
     "execution_count": 81,
     "metadata": {},
     "output_type": "execute_result"
    }
   ],
   "source": [
    "avg_by_userid(df, 'user_id')"
   ]
  }
 ],
 "metadata": {
  "kernelspec": {
   "display_name": "Python 2",
   "language": "python",
   "name": "python2"
  },
  "language_info": {
   "codemirror_mode": {
    "name": "ipython",
    "version": 2
   },
   "file_extension": ".py",
   "mimetype": "text/x-python",
   "name": "python",
   "nbconvert_exporter": "python",
   "pygments_lexer": "ipython2",
   "version": "2.7.13"
  }
 },
 "nbformat": 4,
 "nbformat_minor": 2
}
