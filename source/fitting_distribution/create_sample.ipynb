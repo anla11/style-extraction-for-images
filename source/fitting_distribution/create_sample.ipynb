{
 "cells": [
  {
   "cell_type": "code",
   "execution_count": 1,
   "metadata": {
    "collapsed": true
   },
   "outputs": [],
   "source": [
    "import numpy as np\n",
    "import pandas as pd\n",
    "import math\n",
    "from scipy.stats import multivariate_normal"
   ]
  },
  {
   "cell_type": "code",
   "execution_count": 2,
   "metadata": {
    "collapsed": true
   },
   "outputs": [],
   "source": [
    "from sklearn.mixture import GaussianMixture\n",
    "from sklearn.model_selection import StratifiedKFold"
   ]
  },
  {
   "cell_type": "markdown",
   "metadata": {},
   "source": [
    "## Read Data"
   ]
  },
  {
   "cell_type": "markdown",
   "metadata": {},
   "source": [
    "### read feature"
   ]
  },
  {
   "cell_type": "code",
   "execution_count": 3,
   "metadata": {},
   "outputs": [
    {
     "name": "stdout",
     "output_type": "stream",
     "text": [
      "9817\n"
     ]
    },
    {
     "data": {
      "text/html": [
       "<div>\n",
       "<style>\n",
       "    .dataframe thead tr:only-child th {\n",
       "        text-align: right;\n",
       "    }\n",
       "\n",
       "    .dataframe thead th {\n",
       "        text-align: left;\n",
       "    }\n",
       "\n",
       "    .dataframe tbody tr th {\n",
       "        vertical-align: top;\n",
       "    }\n",
       "</style>\n",
       "<table border=\"1\" class=\"dataframe\">\n",
       "  <thead>\n",
       "    <tr style=\"text-align: right;\">\n",
       "      <th></th>\n",
       "      <th>img_name</th>\n",
       "      <th>img_path</th>\n",
       "      <th>video_id</th>\n",
       "      <th>videos.type</th>\n",
       "      <th>structure.type</th>\n",
       "    </tr>\n",
       "  </thead>\n",
       "  <tbody>\n",
       "    <tr>\n",
       "      <th>0</th>\n",
       "      <td>small___07_02_2017___ong-chu-bi-an-banner-107-...</td>\n",
       "      <td>data/images/videos/587d9c7e17dc133d791e7eca/sm...</td>\n",
       "      <td>587d9c7e17dc133d791e7eca</td>\n",
       "      <td>phim-bo</td>\n",
       "      <td>phim-bo</td>\n",
       "    </tr>\n",
       "    <tr>\n",
       "      <th>1</th>\n",
       "      <td>small___download___14-07-2015___7cxqhuug2hogbv...</td>\n",
       "      <td>data/images/videos/55a4bb5a17dc1333bea073db/sm...</td>\n",
       "      <td>55a4bb5a17dc1333bea073db</td>\n",
       "      <td>phim-bo</td>\n",
       "      <td>phim-bo</td>\n",
       "    </tr>\n",
       "    <tr>\n",
       "      <th>2</th>\n",
       "      <td>small___11_12_2014___twne11-12-2014_16g44-01.jpg</td>\n",
       "      <td>data/images/videos/5489670e17dc1324a4149ff7/sm...</td>\n",
       "      <td>5489670e17dc1324a4149ff7</td>\n",
       "      <td>phim-le-old</td>\n",
       "      <td>phim-le-old</td>\n",
       "    </tr>\n",
       "    <tr>\n",
       "      <th>3</th>\n",
       "      <td>small___08_03_2017___untitled-408-03-2017_18g0...</td>\n",
       "      <td>data/images/videos/5813565c17dc1318bc43178b/sm...</td>\n",
       "      <td>5813565c17dc1318bc43178b</td>\n",
       "      <td>phim-le</td>\n",
       "      <td>phim-le</td>\n",
       "    </tr>\n",
       "    <tr>\n",
       "      <th>4</th>\n",
       "      <td>small___20_04_2016___5ug5ze9720-04-2016_15g37-...</td>\n",
       "      <td>data/images/videos/57173d3117dc135b3889108b/sm...</td>\n",
       "      <td>57173d3117dc135b3889108b</td>\n",
       "      <td>phim-bo</td>\n",
       "      <td>phim-bo</td>\n",
       "    </tr>\n",
       "  </tbody>\n",
       "</table>\n",
       "</div>"
      ],
      "text/plain": [
       "                                            img_name  \\\n",
       "0  small___07_02_2017___ong-chu-bi-an-banner-107-...   \n",
       "1  small___download___14-07-2015___7cxqhuug2hogbv...   \n",
       "2   small___11_12_2014___twne11-12-2014_16g44-01.jpg   \n",
       "3  small___08_03_2017___untitled-408-03-2017_18g0...   \n",
       "4  small___20_04_2016___5ug5ze9720-04-2016_15g37-...   \n",
       "\n",
       "                                            img_path  \\\n",
       "0  data/images/videos/587d9c7e17dc133d791e7eca/sm...   \n",
       "1  data/images/videos/55a4bb5a17dc1333bea073db/sm...   \n",
       "2  data/images/videos/5489670e17dc1324a4149ff7/sm...   \n",
       "3  data/images/videos/5813565c17dc1318bc43178b/sm...   \n",
       "4  data/images/videos/57173d3117dc135b3889108b/sm...   \n",
       "\n",
       "                   video_id  videos.type structure.type  \n",
       "0  587d9c7e17dc133d791e7eca      phim-bo        phim-bo  \n",
       "1  55a4bb5a17dc1333bea073db      phim-bo        phim-bo  \n",
       "2  5489670e17dc1324a4149ff7  phim-le-old    phim-le-old  \n",
       "3  5813565c17dc1318bc43178b      phim-le        phim-le  \n",
       "4  57173d3117dc135b3889108b      phim-bo        phim-bo  "
      ]
     },
     "execution_count": 3,
     "metadata": {},
     "output_type": "execute_result"
    }
   ],
   "source": [
    "video_img = pd.read_csv('../data_preprocessing/files/video_img_movie_small.csv')\n",
    "video_img = video_img.iloc[:, 1:]\n",
    "print len(video_img)\n",
    "video_img.head()"
   ]
  },
  {
   "cell_type": "code",
   "execution_count": 4,
   "metadata": {
    "collapsed": true
   },
   "outputs": [],
   "source": [
    "PATH_ROOT_PROJ = '../..'"
   ]
  },
  {
   "cell_type": "code",
   "execution_count": 5,
   "metadata": {},
   "outputs": [
    {
     "ename": "KeyboardInterrupt",
     "evalue": "",
     "output_type": "error",
     "traceback": [
      "\u001b[0;31m---------------------------------------------------------------------------\u001b[0m",
      "\u001b[0;31mKeyboardInterrupt\u001b[0m                         Traceback (most recent call last)",
      "\u001b[0;32m<ipython-input-5-9cdb72067746>\u001b[0m in \u001b[0;36m<module>\u001b[0;34m()\u001b[0m\n\u001b[1;32m      5\u001b[0m \u001b[0;32mfrom\u001b[0m \u001b[0mstyle_feature\u001b[0m \u001b[0;32mimport\u001b[0m \u001b[0mStyle_Feature\u001b[0m\u001b[0;34m\u001b[0m\u001b[0m\n\u001b[1;32m      6\u001b[0m \u001b[0mstyle_obj\u001b[0m \u001b[0;34m=\u001b[0m \u001b[0mStyle_Feature\u001b[0m\u001b[0;34m(\u001b[0m\u001b[0mlab\u001b[0m \u001b[0;34m=\u001b[0m \u001b[0;36m1\u001b[0m\u001b[0;34m,\u001b[0m \u001b[0mgist\u001b[0m \u001b[0;34m=\u001b[0m \u001b[0;36m0\u001b[0m\u001b[0;34m,\u001b[0m \u001b[0mgist_processmodel\u001b[0m \u001b[0;34m=\u001b[0m \u001b[0mNone\u001b[0m\u001b[0;34m)\u001b[0m\u001b[0;34m\u001b[0m\u001b[0m\n\u001b[0;32m----> 7\u001b[0;31m \u001b[0mfeature\u001b[0m \u001b[0;34m=\u001b[0m \u001b[0mnp\u001b[0m\u001b[0;34m.\u001b[0m\u001b[0marray\u001b[0m\u001b[0;34m(\u001b[0m\u001b[0;34m[\u001b[0m\u001b[0mstyle_obj\u001b[0m\u001b[0;34m.\u001b[0m\u001b[0mget_feature\u001b[0m\u001b[0;34m(\u001b[0m\u001b[0mload_img\u001b[0m\u001b[0;34m(\u001b[0m\u001b[0;34m'%s/%s'\u001b[0m \u001b[0;34m%\u001b[0m \u001b[0;34m(\u001b[0m\u001b[0mPATH_ROOT_PROJ\u001b[0m\u001b[0;34m,\u001b[0m \u001b[0mimg\u001b[0m\u001b[0;34m)\u001b[0m\u001b[0;34m)\u001b[0m\u001b[0;34m)\u001b[0m \u001b[0;32mfor\u001b[0m \u001b[0mimg\u001b[0m \u001b[0;32min\u001b[0m \u001b[0mvideo_img\u001b[0m\u001b[0;34m[\u001b[0m\u001b[0;34m'img_path'\u001b[0m\u001b[0;34m]\u001b[0m\u001b[0;34m]\u001b[0m\u001b[0;34m)\u001b[0m\u001b[0;34m\u001b[0m\u001b[0m\n\u001b[0m",
      "\u001b[0;32m/home/anla/Source/python/style_feature_extraction_2/source/read_path.pyc\u001b[0m in \u001b[0;36mload_img\u001b[0;34m(img_path)\u001b[0m\n\u001b[1;32m      3\u001b[0m \u001b[0;34m\u001b[0m\u001b[0m\n\u001b[1;32m      4\u001b[0m \u001b[0;32mdef\u001b[0m \u001b[0mload_img\u001b[0m\u001b[0;34m(\u001b[0m\u001b[0mimg_path\u001b[0m\u001b[0;34m)\u001b[0m\u001b[0;34m:\u001b[0m\u001b[0;34m\u001b[0m\u001b[0m\n\u001b[0;32m----> 5\u001b[0;31m     \u001b[0;32mreturn\u001b[0m \u001b[0mnp\u001b[0m\u001b[0;34m.\u001b[0m\u001b[0marray\u001b[0m\u001b[0;34m(\u001b[0m\u001b[0mcv2\u001b[0m\u001b[0;34m.\u001b[0m\u001b[0mimread\u001b[0m\u001b[0;34m(\u001b[0m\u001b[0mimg_path\u001b[0m\u001b[0;34m)\u001b[0m\u001b[0;34m)\u001b[0m\u001b[0;34m\u001b[0m\u001b[0m\n\u001b[0m\u001b[1;32m      6\u001b[0m \u001b[0;34m\u001b[0m\u001b[0m\n\u001b[1;32m      7\u001b[0m \u001b[0;34m\u001b[0m\u001b[0m\n",
      "\u001b[0;31mKeyboardInterrupt\u001b[0m: "
     ]
    }
   ],
   "source": [
    "import sys\n",
    "sys.path.append(\"..\")\n",
    "\n",
    "from read_path import load_img\n",
    "from style_feature import Style_Feature\n",
    "style_obj = Style_Feature(lab = 1, gist = 0, gist_processmodel = None)\n",
    "feature = np.array([style_obj.get_feature(load_img('%s/%s' % (PATH_ROOT_PROJ, img))) for img in video_img['img_path']])"
   ]
  },
  {
   "cell_type": "code",
   "execution_count": null,
   "metadata": {},
   "outputs": [],
   "source": [
    "None_list = [i for i in range(len(feature)) if feature[i] is None]\n",
    "print None_list"
   ]
  },
  {
   "cell_type": "code",
   "execution_count": 64,
   "metadata": {},
   "outputs": [],
   "source": [
    "item = np.array(list(set(range(len(feature))) - set(None_list)))"
   ]
  },
  {
   "cell_type": "code",
   "execution_count": 129,
   "metadata": {},
   "outputs": [
    {
     "data": {
      "text/plain": [
       "array([   0,    1,    2, ..., 9814, 9815, 9816])"
      ]
     },
     "execution_count": 129,
     "metadata": {},
     "output_type": "execute_result"
    }
   ],
   "source": [
    "np.savetxt('item_list.txt', item, fmt='%d')\n",
    "item"
   ]
  },
  {
   "cell_type": "code",
   "execution_count": 15,
   "metadata": {},
   "outputs": [],
   "source": [
    "feature_bk = np.array(feature, copy=True)  "
   ]
  },
  {
   "cell_type": "code",
   "execution_count": null,
   "metadata": {
    "collapsed": true
   },
   "outputs": [],
   "source": [
    "for i in None_list:\n",
    "    feature[i] = np.zeros(feature[item[0]].shape)"
   ]
  },
  {
   "cell_type": "code",
   "execution_count": 82,
   "metadata": {},
   "outputs": [
    {
     "name": "stdout",
     "output_type": "stream",
     "text": [
      "(9817, 784)\n"
     ]
    }
   ],
   "source": [
    "data = np.zeros((len(feature), len(feature[0])))\n",
    "for i in range(len(feature)):\n",
    "    for j in range(len(feature[i])):\n",
    "        data[i][j] = feature[i][j]\n",
    "print (data.shape)"
   ]
  },
  {
   "cell_type": "code",
   "execution_count": 108,
   "metadata": {
    "collapsed": true
   },
   "outputs": [],
   "source": [
    "np.savetxt('data.txt', data)\n",
    "\n"
   ]
  },
  {
   "cell_type": "markdown",
   "metadata": {},
   "source": [
    "### prepare usr_list"
   ]
  },
  {
   "cell_type": "code",
   "execution_count": 3,
   "metadata": {},
   "outputs": [
    {
     "data": {
      "text/html": [
       "<div>\n",
       "<style>\n",
       "    .dataframe thead tr:only-child th {\n",
       "        text-align: right;\n",
       "    }\n",
       "\n",
       "    .dataframe thead th {\n",
       "        text-align: left;\n",
       "    }\n",
       "\n",
       "    .dataframe tbody tr th {\n",
       "        vertical-align: top;\n",
       "    }\n",
       "</style>\n",
       "<table border=\"1\" class=\"dataframe\">\n",
       "  <thead>\n",
       "    <tr style=\"text-align: right;\">\n",
       "      <th></th>\n",
       "      <th>user_id</th>\n",
       "      <th>video_id</th>\n",
       "      <th>img_name</th>\n",
       "      <th>img_path</th>\n",
       "    </tr>\n",
       "  </thead>\n",
       "  <tbody>\n",
       "    <tr>\n",
       "      <th>0</th>\n",
       "      <td>9796892</td>\n",
       "      <td>5898331b17dc1309f34e9c52</td>\n",
       "      <td>small___06_02_2017___tam-sinh-tam-the-thap-ly-...</td>\n",
       "      <td>data/images/videos/small___06_02_2017___tam-si...</td>\n",
       "    </tr>\n",
       "    <tr>\n",
       "      <th>1</th>\n",
       "      <td>322253</td>\n",
       "      <td>5898331b17dc1309f34e9c52</td>\n",
       "      <td>small___06_02_2017___tam-sinh-tam-the-thap-ly-...</td>\n",
       "      <td>data/images/videos/small___06_02_2017___tam-si...</td>\n",
       "    </tr>\n",
       "    <tr>\n",
       "      <th>2</th>\n",
       "      <td>4649377</td>\n",
       "      <td>5898331b17dc1309f34e9c52</td>\n",
       "      <td>small___06_02_2017___tam-sinh-tam-the-thap-ly-...</td>\n",
       "      <td>data/images/videos/small___06_02_2017___tam-si...</td>\n",
       "    </tr>\n",
       "    <tr>\n",
       "      <th>3</th>\n",
       "      <td>9847750</td>\n",
       "      <td>5898331b17dc1309f34e9c52</td>\n",
       "      <td>small___06_02_2017___tam-sinh-tam-the-thap-ly-...</td>\n",
       "      <td>data/images/videos/small___06_02_2017___tam-si...</td>\n",
       "    </tr>\n",
       "    <tr>\n",
       "      <th>4</th>\n",
       "      <td>4318646</td>\n",
       "      <td>5898331b17dc1309f34e9c52</td>\n",
       "      <td>small___06_02_2017___tam-sinh-tam-the-thap-ly-...</td>\n",
       "      <td>data/images/videos/small___06_02_2017___tam-si...</td>\n",
       "    </tr>\n",
       "  </tbody>\n",
       "</table>\n",
       "</div>"
      ],
      "text/plain": [
       "   user_id                  video_id  \\\n",
       "0  9796892  5898331b17dc1309f34e9c52   \n",
       "1   322253  5898331b17dc1309f34e9c52   \n",
       "2  4649377  5898331b17dc1309f34e9c52   \n",
       "3  9847750  5898331b17dc1309f34e9c52   \n",
       "4  4318646  5898331b17dc1309f34e9c52   \n",
       "\n",
       "                                            img_name  \\\n",
       "0  small___06_02_2017___tam-sinh-tam-the-thap-ly-...   \n",
       "1  small___06_02_2017___tam-sinh-tam-the-thap-ly-...   \n",
       "2  small___06_02_2017___tam-sinh-tam-the-thap-ly-...   \n",
       "3  small___06_02_2017___tam-sinh-tam-the-thap-ly-...   \n",
       "4  small___06_02_2017___tam-sinh-tam-the-thap-ly-...   \n",
       "\n",
       "                                            img_path  \n",
       "0  data/images/videos/small___06_02_2017___tam-si...  \n",
       "1  data/images/videos/small___06_02_2017___tam-si...  \n",
       "2  data/images/videos/small___06_02_2017___tam-si...  \n",
       "3  data/images/videos/small___06_02_2017___tam-si...  \n",
       "4  data/images/videos/small___06_02_2017___tam-si...  "
      ]
     },
     "execution_count": 3,
     "metadata": {},
     "output_type": "execute_result"
    }
   ],
   "source": [
    "usr_img_df = pd.read_csv('../data_preprocessing/files/usr-img_100_300.csv')\n",
    "usr_img_df = usr_img_df.iloc[:, 1:]\n",
    "usr_img_df.head()"
   ]
  },
  {
   "cell_type": "code",
   "execution_count": 45,
   "metadata": {
    "collapsed": true,
    "scrolled": false
   },
   "outputs": [],
   "source": [
    "usr_ids = np.unique(usr_img_df['user_id'])\n",
    "usr_list = []\n",
    "for usr in usr_ids:\n",
    "    items = usr_img_df[usr_img_df['user_id'] == usr]\n",
    "    img_idx = list(set(np.array([np.where((video_img['video_id'] == items.iloc[i]['video_id']) & \\\n",
    "                        (video_img['img_name'] == items.iloc[i]['img_name']))[0] \\\n",
    "                           for i in range(len(items))]).flatten()) - set(None_list))\n",
    "    usr_list.append(img_idx)"
   ]
  },
  {
   "cell_type": "code",
   "execution_count": 121,
   "metadata": {},
   "outputs": [
    {
     "name": "stdout",
     "output_type": "stream",
     "text": [
      "0\n"
     ]
    }
   ],
   "source": [
    "data_tmp = np.loadtxt('data.txt')\n",
    "print np.sum([data[i] != data_tmp[i] for i in range(9817)])"
   ]
  },
  {
   "cell_type": "code",
   "execution_count": 112,
   "metadata": {},
   "outputs": [],
   "source": [
    "import pickle\n",
    "\n",
    "with open('usr_list.txt', 'wb') as fp:\n",
    "    pickle.dump(usr_list, fp)   "
   ]
  },
  {
   "cell_type": "code",
   "execution_count": 102,
   "metadata": {},
   "outputs": [
    {
     "name": "stdout",
     "output_type": "stream",
     "text": [
      "Number of user: 310\n"
     ]
    }
   ],
   "source": [
    "print 'Number of user:', len(usr_list)"
   ]
  },
  {
   "cell_type": "markdown",
   "metadata": {},
   "source": [
    "## GMM"
   ]
  },
  {
   "cell_type": "code",
   "execution_count": 105,
   "metadata": {},
   "outputs": [],
   "source": [
    "def  gmm_usritem(item, usr_list, feature):\n",
    "    '''\n",
    "        itemset: list indexes of images corresponding to video_img. Discard indexes where feature is None.\n",
    "        usr_list: |U| users, each user is a sets of items.\n",
    "        feature: gist or lab feature coressponding image in video_img.\n",
    "    '''\n",
    "    for n_cluster in [12, 16, 24, 32, 36, 48, 64, 72, 80]:\n",
    "        print n_cluster\n",
    "\n",
    "        estimators = dict((cov_type, GaussianMixture(n_components=n_cluster,\n",
    "                       covariance_type=cov_type, max_iter=20, random_state=0))\n",
    "                      for cov_type in ['spherical', 'full'])  #'', 'diag',\n",
    "        n_estimators = len(estimators)\n",
    "\n",
    "        label_init = np.random.randint(0, n_cluster, len(item))\n",
    "        label_pred = None\n",
    "\n",
    "        for index, (name, gmm) in enumerate(estimators.items()):\n",
    "            print name\n",
    "            gmm.means_init = np.array([feature[item[label_init == i]].mean(axis=0) for i in range(n_cluster)])\n",
    "            gmm.fit(feature[item])\n",
    "            label = gmm.predict(feature[item])\n",
    "            clusters = [np.where(label == i)[0] for i in range(n_cluster)]\n",
    "\n",
    "            means = gmm.means_\n",
    "            covs = gmm.covariances_\n",
    "\n",
    "            p_us = []\n",
    "            for usr in usr_list:\n",
    "                p_x = [multivariate_normal.logpdf(feature[i], mean = means[label[i]], cov = covs[label[i]]) \\\n",
    "                       for i in usr]\n",
    "                p_u = np.sum(np.array(p_x))\n",
    "                p_us.append(p_u)\n",
    "            print 'Avg logpdf user: ', np.array(p_us).mean()"
   ]
  },
  {
   "cell_type": "code",
   "execution_count": 106,
   "metadata": {
    "scrolled": true
   },
   "outputs": [
    {
     "name": "stdout",
     "output_type": "stream",
     "text": [
      "12\n",
      "spherical\n",
      "Avg logpdf user:  334728.681627\n",
      "full\n",
      "Avg logpdf user:  560756.494043\n",
      "16\n",
      "spherical\n",
      "Avg logpdf user:  330143.038102\n",
      "full\n",
      "Avg logpdf user:  571658.812033\n",
      "24\n",
      "spherical\n",
      "Avg logpdf user:  327942.423049\n",
      "full\n",
      "Avg logpdf user:  559230.917406\n",
      "32\n",
      "spherical\n"
     ]
    },
    {
     "ename": "KeyboardInterrupt",
     "evalue": "",
     "output_type": "error",
     "traceback": [
      "\u001b[0;31m---------------------------------------------------------------------------\u001b[0m",
      "\u001b[0;31mKeyboardInterrupt\u001b[0m                         Traceback (most recent call last)",
      "\u001b[0;32m<ipython-input-106-234bd7235db3>\u001b[0m in \u001b[0;36m<module>\u001b[0;34m()\u001b[0m\n\u001b[0;32m----> 1\u001b[0;31m \u001b[0mgmm_usritem\u001b[0m\u001b[0;34m(\u001b[0m\u001b[0mitem\u001b[0m\u001b[0;34m,\u001b[0m \u001b[0musr_list\u001b[0m\u001b[0;34m,\u001b[0m \u001b[0mdata\u001b[0m\u001b[0;34m)\u001b[0m\u001b[0;34m\u001b[0m\u001b[0m\n\u001b[0m",
      "\u001b[0;32m<ipython-input-105-17c4a6bb4ea2>\u001b[0m in \u001b[0;36mgmm_usritem\u001b[0;34m(item, usr_list, feature)\u001b[0m\n\u001b[1;32m     28\u001b[0m             \u001b[0mp_us\u001b[0m \u001b[0;34m=\u001b[0m \u001b[0;34m[\u001b[0m\u001b[0;34m]\u001b[0m\u001b[0;34m\u001b[0m\u001b[0m\n\u001b[1;32m     29\u001b[0m             \u001b[0;32mfor\u001b[0m \u001b[0musr\u001b[0m \u001b[0;32min\u001b[0m \u001b[0musr_list\u001b[0m\u001b[0;34m:\u001b[0m\u001b[0;34m\u001b[0m\u001b[0m\n\u001b[0;32m---> 30\u001b[0;31m                 \u001b[0mp_x\u001b[0m \u001b[0;34m=\u001b[0m \u001b[0;34m[\u001b[0m\u001b[0mmultivariate_normal\u001b[0m\u001b[0;34m.\u001b[0m\u001b[0mlogpdf\u001b[0m\u001b[0;34m(\u001b[0m\u001b[0mfeature\u001b[0m\u001b[0;34m[\u001b[0m\u001b[0mi\u001b[0m\u001b[0;34m]\u001b[0m\u001b[0;34m,\u001b[0m \u001b[0mmean\u001b[0m \u001b[0;34m=\u001b[0m \u001b[0mmeans\u001b[0m\u001b[0;34m[\u001b[0m\u001b[0mlabel\u001b[0m\u001b[0;34m[\u001b[0m\u001b[0mi\u001b[0m\u001b[0;34m]\u001b[0m\u001b[0;34m]\u001b[0m\u001b[0;34m,\u001b[0m \u001b[0mcov\u001b[0m \u001b[0;34m=\u001b[0m \u001b[0mcovs\u001b[0m\u001b[0;34m[\u001b[0m\u001b[0mlabel\u001b[0m\u001b[0;34m[\u001b[0m\u001b[0mi\u001b[0m\u001b[0;34m]\u001b[0m\u001b[0;34m]\u001b[0m\u001b[0;34m)\u001b[0m                        \u001b[0;32mfor\u001b[0m \u001b[0mi\u001b[0m \u001b[0;32min\u001b[0m \u001b[0musr\u001b[0m\u001b[0;34m]\u001b[0m\u001b[0;34m\u001b[0m\u001b[0m\n\u001b[0m\u001b[1;32m     31\u001b[0m                 \u001b[0mp_u\u001b[0m \u001b[0;34m=\u001b[0m \u001b[0mnp\u001b[0m\u001b[0;34m.\u001b[0m\u001b[0msum\u001b[0m\u001b[0;34m(\u001b[0m\u001b[0mnp\u001b[0m\u001b[0;34m.\u001b[0m\u001b[0marray\u001b[0m\u001b[0;34m(\u001b[0m\u001b[0mp_x\u001b[0m\u001b[0;34m)\u001b[0m\u001b[0;34m)\u001b[0m\u001b[0;34m\u001b[0m\u001b[0m\n\u001b[1;32m     32\u001b[0m                 \u001b[0mp_us\u001b[0m\u001b[0;34m.\u001b[0m\u001b[0mappend\u001b[0m\u001b[0;34m(\u001b[0m\u001b[0mp_u\u001b[0m\u001b[0;34m)\u001b[0m\u001b[0;34m\u001b[0m\u001b[0m\n",
      "\u001b[0;32m/home/anla/Apps/anaconda2/lib/python2.7/site-packages/scipy/stats/_multivariate.pyc\u001b[0m in \u001b[0;36mlogpdf\u001b[0;34m(self, x, mean, cov, allow_singular)\u001b[0m\n\u001b[1;32m    478\u001b[0m         \u001b[0mdim\u001b[0m\u001b[0;34m,\u001b[0m \u001b[0mmean\u001b[0m\u001b[0;34m,\u001b[0m \u001b[0mcov\u001b[0m \u001b[0;34m=\u001b[0m \u001b[0mself\u001b[0m\u001b[0;34m.\u001b[0m\u001b[0m_process_parameters\u001b[0m\u001b[0;34m(\u001b[0m\u001b[0mNone\u001b[0m\u001b[0;34m,\u001b[0m \u001b[0mmean\u001b[0m\u001b[0;34m,\u001b[0m \u001b[0mcov\u001b[0m\u001b[0;34m)\u001b[0m\u001b[0;34m\u001b[0m\u001b[0m\n\u001b[1;32m    479\u001b[0m         \u001b[0mx\u001b[0m \u001b[0;34m=\u001b[0m \u001b[0mself\u001b[0m\u001b[0;34m.\u001b[0m\u001b[0m_process_quantiles\u001b[0m\u001b[0;34m(\u001b[0m\u001b[0mx\u001b[0m\u001b[0;34m,\u001b[0m \u001b[0mdim\u001b[0m\u001b[0;34m)\u001b[0m\u001b[0;34m\u001b[0m\u001b[0m\n\u001b[0;32m--> 480\u001b[0;31m         \u001b[0mpsd\u001b[0m \u001b[0;34m=\u001b[0m \u001b[0m_PSD\u001b[0m\u001b[0;34m(\u001b[0m\u001b[0mcov\u001b[0m\u001b[0;34m,\u001b[0m \u001b[0mallow_singular\u001b[0m\u001b[0;34m=\u001b[0m\u001b[0mallow_singular\u001b[0m\u001b[0;34m)\u001b[0m\u001b[0;34m\u001b[0m\u001b[0m\n\u001b[0m\u001b[1;32m    481\u001b[0m         \u001b[0mout\u001b[0m \u001b[0;34m=\u001b[0m \u001b[0mself\u001b[0m\u001b[0;34m.\u001b[0m\u001b[0m_logpdf\u001b[0m\u001b[0;34m(\u001b[0m\u001b[0mx\u001b[0m\u001b[0;34m,\u001b[0m \u001b[0mmean\u001b[0m\u001b[0;34m,\u001b[0m \u001b[0mpsd\u001b[0m\u001b[0;34m.\u001b[0m\u001b[0mU\u001b[0m\u001b[0;34m,\u001b[0m \u001b[0mpsd\u001b[0m\u001b[0;34m.\u001b[0m\u001b[0mlog_pdet\u001b[0m\u001b[0;34m,\u001b[0m \u001b[0mpsd\u001b[0m\u001b[0;34m.\u001b[0m\u001b[0mrank\u001b[0m\u001b[0;34m)\u001b[0m\u001b[0;34m\u001b[0m\u001b[0m\n\u001b[1;32m    482\u001b[0m         \u001b[0;32mreturn\u001b[0m \u001b[0m_squeeze_output\u001b[0m\u001b[0;34m(\u001b[0m\u001b[0mout\u001b[0m\u001b[0;34m)\u001b[0m\u001b[0;34m\u001b[0m\u001b[0m\n",
      "\u001b[0;32m/home/anla/Apps/anaconda2/lib/python2.7/site-packages/scipy/stats/_multivariate.pyc\u001b[0m in \u001b[0;36m__init__\u001b[0;34m(self, M, cond, rcond, lower, check_finite, allow_singular)\u001b[0m\n\u001b[1;32m    148\u001b[0m         \u001b[0;31m# Note that eigh takes care of array conversion, chkfinite,\u001b[0m\u001b[0;34m\u001b[0m\u001b[0;34m\u001b[0m\u001b[0m\n\u001b[1;32m    149\u001b[0m         \u001b[0;31m# and assertion that the matrix is square.\u001b[0m\u001b[0;34m\u001b[0m\u001b[0;34m\u001b[0m\u001b[0m\n\u001b[0;32m--> 150\u001b[0;31m         \u001b[0ms\u001b[0m\u001b[0;34m,\u001b[0m \u001b[0mu\u001b[0m \u001b[0;34m=\u001b[0m \u001b[0mscipy\u001b[0m\u001b[0;34m.\u001b[0m\u001b[0mlinalg\u001b[0m\u001b[0;34m.\u001b[0m\u001b[0meigh\u001b[0m\u001b[0;34m(\u001b[0m\u001b[0mM\u001b[0m\u001b[0;34m,\u001b[0m \u001b[0mlower\u001b[0m\u001b[0;34m=\u001b[0m\u001b[0mlower\u001b[0m\u001b[0;34m,\u001b[0m \u001b[0mcheck_finite\u001b[0m\u001b[0;34m=\u001b[0m\u001b[0mcheck_finite\u001b[0m\u001b[0;34m)\u001b[0m\u001b[0;34m\u001b[0m\u001b[0m\n\u001b[0m\u001b[1;32m    151\u001b[0m \u001b[0;34m\u001b[0m\u001b[0m\n\u001b[1;32m    152\u001b[0m         \u001b[0meps\u001b[0m \u001b[0;34m=\u001b[0m \u001b[0m_eigvalsh_to_eps\u001b[0m\u001b[0;34m(\u001b[0m\u001b[0ms\u001b[0m\u001b[0;34m,\u001b[0m \u001b[0mcond\u001b[0m\u001b[0;34m,\u001b[0m \u001b[0mrcond\u001b[0m\u001b[0;34m)\u001b[0m\u001b[0;34m\u001b[0m\u001b[0m\n",
      "\u001b[0;32m/home/anla/Apps/anaconda2/lib/python2.7/site-packages/scipy/linalg/decomp.pyc\u001b[0m in \u001b[0;36meigh\u001b[0;34m(a, b, lower, eigvals_only, overwrite_a, overwrite_b, turbo, eigvals, type, check_finite)\u001b[0m\n\u001b[1;32m    382\u001b[0m         \u001b[0;32mif\u001b[0m \u001b[0meigvals\u001b[0m \u001b[0;32mis\u001b[0m \u001b[0mNone\u001b[0m\u001b[0;34m:\u001b[0m\u001b[0;34m\u001b[0m\u001b[0m\n\u001b[1;32m    383\u001b[0m             w, v, info = evr(a1, uplo=uplo, jobz=_job, range=\"A\", il=1,\n\u001b[0;32m--> 384\u001b[0;31m                              iu=a1.shape[0], overwrite_a=overwrite_a)\n\u001b[0m\u001b[1;32m    385\u001b[0m         \u001b[0;32melse\u001b[0m\u001b[0;34m:\u001b[0m\u001b[0;34m\u001b[0m\u001b[0m\n\u001b[1;32m    386\u001b[0m             \u001b[0;34m(\u001b[0m\u001b[0mlo\u001b[0m\u001b[0;34m,\u001b[0m \u001b[0mhi\u001b[0m\u001b[0;34m)\u001b[0m \u001b[0;34m=\u001b[0m \u001b[0meigvals\u001b[0m\u001b[0;34m\u001b[0m\u001b[0m\n",
      "\u001b[0;31mKeyboardInterrupt\u001b[0m: "
     ]
    }
   ],
   "source": [
    "gmm_usritem(item, usr_list, data)"
   ]
  },
  {
   "cell_type": "code",
   "execution_count": 122,
   "metadata": {},
   "outputs": [
    {
     "name": "stdout",
     "output_type": "stream",
     "text": [
      "32\n",
      "full\n",
      "Avg logpdf user:  541074.09214\n",
      "36\n",
      "full\n",
      "Avg logpdf user:  545674.536314\n",
      "48\n",
      "full\n",
      "Avg logpdf user:  523219.490253\n",
      "64\n",
      "full\n",
      "Avg logpdf user:  515910.242452\n",
      "72\n",
      "full\n",
      "Avg logpdf user:  504959.685178\n",
      "80\n",
      "full\n",
      "Avg logpdf user:  475482.169995\n"
     ]
    }
   ],
   "source": [
    "def  gmm_usritem(item, usr_list, feature):\n",
    "    '''\n",
    "        itemset: list indexes of images corresponding to video_img. Discard indexes where feature is None.\n",
    "        usr_list: |U| users, each user is a sets of items.\n",
    "        feature: gist or lab feature coressponding image in video_img.\n",
    "    '''\n",
    "    for n_cluster in [32, 36, 48, 64, 72, 80]:\n",
    "        print n_cluster\n",
    "\n",
    "        estimators = dict((cov_type, GaussianMixture(n_components=n_cluster,\n",
    "                       covariance_type=cov_type, max_iter=20, random_state=0))\n",
    "                      for cov_type in ['full'])  #'', 'diag',\n",
    "        n_estimators = len(estimators)\n",
    "\n",
    "        label_init = np.random.randint(0, n_cluster, len(item))\n",
    "        label_pred = None\n",
    "\n",
    "        for index, (name, gmm) in enumerate(estimators.items()):\n",
    "            print name\n",
    "            gmm.means_init = np.array([feature[item[label_init == i]].mean(axis=0) for i in range(n_cluster)])\n",
    "            gmm.fit(feature[item])\n",
    "            label = gmm.predict(feature[item])\n",
    "            clusters = [np.where(label == i)[0] for i in range(n_cluster)]\n",
    "\n",
    "            means = gmm.means_\n",
    "            covs = gmm.covariances_\n",
    "\n",
    "            p_us = []\n",
    "            for usr in usr_list:\n",
    "                p_x = [multivariate_normal.logpdf(feature[i], mean = means[label[i]], cov = covs[label[i]]) \\\n",
    "                       for i in usr]\n",
    "                p_u = np.sum(np.array(p_x))\n",
    "                p_us.append(p_u)\n",
    "            print 'Avg logpdf user: ', np.array(p_us).mean()\n",
    "gmm_usritem(item, usr_list, data)"
   ]
  }
 ],
 "metadata": {
  "kernelspec": {
   "display_name": "Python 2",
   "language": "python",
   "name": "python2"
  },
  "language_info": {
   "codemirror_mode": {
    "name": "ipython",
    "version": 2
   },
   "file_extension": ".py",
   "mimetype": "text/x-python",
   "name": "python",
   "nbconvert_exporter": "python",
   "pygments_lexer": "ipython2",
   "version": "2.7.13"
  }
 },
 "nbformat": 4,
 "nbformat_minor": 2
}
