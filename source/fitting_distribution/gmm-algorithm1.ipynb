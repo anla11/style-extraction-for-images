{
 "cells": [
  {
   "cell_type": "code",
   "execution_count": 1,
   "metadata": {
    "collapsed": true
   },
   "outputs": [],
   "source": [
    "import numpy as np\n",
    "import pandas as pd\n",
    "import math\n",
    "from scipy.stats import multivariate_normal\n",
    "from sklearn.mixture import GaussianMixture\n",
    "from sklearn.model_selection import StratifiedKFold"
   ]
  },
  {
   "cell_type": "markdown",
   "metadata": {},
   "source": [
    "## Read data"
   ]
  },
  {
   "cell_type": "code",
   "execution_count": 2,
   "metadata": {
    "collapsed": true
   },
   "outputs": [],
   "source": [
    "features = np.loadtxt('../../data/usr_his_sample/features.txt')"
   ]
  },
  {
   "cell_type": "code",
   "execution_count": 3,
   "metadata": {},
   "outputs": [
    {
     "data": {
      "text/plain": [
       "(9817, 784)"
      ]
     },
     "execution_count": 3,
     "metadata": {},
     "output_type": "execute_result"
    }
   ],
   "source": [
    "features.shape"
   ]
  },
  {
   "cell_type": "code",
   "execution_count": 4,
   "metadata": {},
   "outputs": [
    {
     "data": {
      "text/plain": [
       "9816"
      ]
     },
     "execution_count": 4,
     "metadata": {},
     "output_type": "execute_result"
    }
   ],
   "source": [
    "item_list = np.loadtxt('../../data/usr_his_sample/item_list.txt').astype(int)\n",
    "len(item_list)"
   ]
  },
  {
   "cell_type": "code",
   "execution_count": 5,
   "metadata": {},
   "outputs": [
    {
     "data": {
      "text/plain": [
       "44709"
      ]
     },
     "execution_count": 5,
     "metadata": {},
     "output_type": "execute_result"
    }
   ],
   "source": [
    "import pickle\n",
    "usr_list = None\n",
    "with open ('../../data/usr_his_sample/usr_list_5-20.txt', 'rb') as fp:\n",
    "    usr_list = pickle.load(fp) \n",
    "len(usr_list)"
   ]
  },
  {
   "cell_type": "code",
   "execution_count": 6,
   "metadata": {
    "collapsed": true
   },
   "outputs": [],
   "source": [
    "def cnt_subset(usr_list, item_list, thres = 5):\n",
    "    cnt = list()\n",
    "    n_usr = 0\n",
    "    for usr in usr_list:\n",
    "        n_item = np.sum([item in item_list for item in usr])\n",
    "        if n_item > 0:\n",
    "            if n_item > thres:\n",
    "                cnt.append(n_item)\n",
    "                n_usr += 1\n",
    "    print np.array(cnt).mean(), np.max(cnt), n_usr\n",
    "    \n",
    "def get_subset(usr_list, item_list, thres = 5):\n",
    "    subset_usrlist = []\n",
    "    for usr in usr_list:\n",
    "        n_item = np.sum([item in item_list for item in usr])\n",
    "        if n_item > 0:\n",
    "            subset_usrlist.append(usr)\n",
    "    return subset_usrlist"
   ]
  },
  {
   "cell_type": "code",
   "execution_count": 7,
   "metadata": {},
   "outputs": [
    {
     "name": "stdout",
     "output_type": "stream",
     "text": [
      "6.52314474651 11 1361\n"
     ]
    }
   ],
   "source": [
    "cnt_subset(usr_list, item_list[:2000], thres = 5)\n",
    "item_list_small1 = item_list[:2000]\n",
    "usr_list_small1 = get_subset(usr_list, item_list_small1, thres = 5)"
   ]
  },
  {
   "cell_type": "code",
   "execution_count": 8,
   "metadata": {
    "collapsed": true
   },
   "outputs": [],
   "source": [
    "usr_list_train = usr_list_small1[:1000]\n",
    "usr_list_test = usr_list_small1[1000:]"
   ]
  },
  {
   "cell_type": "markdown",
   "metadata": {},
   "source": [
    "## Functions"
   ]
  },
  {
   "cell_type": "code",
   "execution_count": 9,
   "metadata": {
    "collapsed": true
   },
   "outputs": [],
   "source": [
    "class  Cluster:\n",
    "    def __init__(self, mean, cov, weight = 1):\n",
    "        self.mean = mean\n",
    "        self.cov = cov\n",
    "        self.weight = weight"
   ]
  },
  {
   "cell_type": "code",
   "execution_count": 11,
   "metadata": {
    "collapsed": true
   },
   "outputs": [],
   "source": [
    "#public\n",
    "def cal_logp_item_cluster(feature_item, cluster):\n",
    "    return multivariate_normal.logpdf(feature_item, mean = cluster.mean, cov = cluster.cov)\n",
    "\n",
    "#not public\n",
    "def cal_logp_user_cluster(user, features, cluster):\n",
    "    return np.sum([cal_logp_item_cluster(features[item], cluster) for item in user])\n",
    "\n",
    "#public\n",
    "def cal_ptrans_user(user, features, clusters):\n",
    "    return np.sum([cluster.weight * cal_logp_user_cluster(user, features, cluster) for cluster in clusters])\n",
    "\n",
    "#public\n",
    "def cal_ptrans_item_user(item, user, features, clusters):\n",
    "    return np.sum([cal_logp_item_cluster(features[item], cluster) + cal_logp_user_cluster(user, features, cluster)\\\n",
    "                   for cluster in clusters])"
   ]
  },
  {
   "cell_type": "code",
   "execution_count": 12,
   "metadata": {
    "collapsed": true
   },
   "outputs": [],
   "source": [
    "import sys\n",
    "sys.path.append(\"..\")\n",
    "from clustering.clustering import kmeans_cal"
   ]
  },
  {
   "cell_type": "code",
   "execution_count": 13,
   "metadata": {
    "collapsed": true
   },
   "outputs": [],
   "source": [
    "def  find_clusters(items, features, n_cluster):\n",
    "    '''\n",
    "        itemset: list indexes of images corresponding to video_img. Discard indexes where feature is None.\n",
    "        usr_list: |U| users, each user is a sets of items.\n",
    "        feature: gist or lab feature coressponding image in video_img.\n",
    "    '''\n",
    "    kmeans = kmeans_cal(features[items], n_cluster)\n",
    "    label_init = kmeans.labels_\n",
    "#     label_init = np.random.randint(0, n_cluster, len(items))\n",
    "\n",
    "    gmm = GaussianMixture(n_components=n_cluster, covariance_type = 'full', max_iter = 100, random_state=0)\n",
    "    gmm.means_init = np.array([features[items[label_init == i]].mean(axis=0) for i in range(n_cluster)])\n",
    "    gmm.fit(features[items])\n",
    "    label_pred = gmm.predict(features[items])\n",
    "    clusters = [np.where(label_pred == i)[0] for i in range(n_cluster)]\n",
    "\n",
    "#     means = gmm.means_\n",
    "#     covs = gmm.covariances_\n",
    "#     weights = gmm.weights_\n",
    "    return gmm"
   ]
  },
  {
   "cell_type": "code",
   "execution_count": 85,
   "metadata": {
    "collapsed": true
   },
   "outputs": [],
   "source": [
    "multi_norm = np.vectorize(multivariate_normal.pdf)\n"
   ]
  },
  {
   "cell_type": "code",
   "execution_count": 102,
   "metadata": {},
   "outputs": [
    {
     "data": {
      "text/plain": [
       "(784, 3)"
      ]
     },
     "execution_count": 102,
     "metadata": {},
     "output_type": "execute_result"
    }
   ],
   "source": []
  },
  {
   "cell_type": "code",
   "execution_count": 29,
   "metadata": {},
   "outputs": [
    {
     "data": {
      "text/plain": [
       "array([[  3.70474708e-04,   6.36349648e-05,   3.38562390e-05],\n",
       "       [  6.36349648e-05,   2.19750643e-04,   9.06684256e-05],\n",
       "       [  3.38562390e-05,   9.06684256e-05,   7.73454590e-05]])"
      ]
     },
     "execution_count": 29,
     "metadata": {},
     "output_type": "execute_result"
    }
   ],
   "source": [
    "np.cov(features[[0, 1, 2]])"
   ]
  },
  {
   "cell_type": "code",
   "execution_count": null,
   "metadata": {
    "collapsed": true
   },
   "outputs": [],
   "source": [
    "np.apply_along_axis(a)"
   ]
  },
  {
   "cell_type": "code",
   "execution_count": null,
   "metadata": {
    "collapsed": true
   },
   "outputs": [],
   "source": [
    "def cal_pdf(x, mean, var):\n",
    "    return 1.0 / (np.roots(len(X)) * np)"
   ]
  },
  {
   "cell_type": "code",
   "execution_count": 48,
   "metadata": {},
   "outputs": [],
   "source": [
    "import math \n",
    "\n",
    "def norm_pdf_multivariate(x, mu, sigma):\n",
    "    size = len(x)\n",
    "    if size == len(mu) and (size, size) == sigma.shape:\n",
    "        det = np.linalg.det(sigma)\n",
    "        if det == 0:\n",
    "            raise NameError(\"The covariance matrix can't be singular\")\n",
    "\n",
    "        norm_const = 1.0/ ( math.pow((2*pi),float(size)/2) * math.pow(det,1.0/2) )\n",
    "        x_mu = matrix(x - mu)\n",
    "        inv = sigma.I        \n",
    "        result = math.pow(math.e, -0.5 * (x_mu * inv * x_mu.T))\n",
    "        return norm_const * result\n",
    "    else:\n",
    "        raise NameError(\"The dimensions of the input don't match\")"
   ]
  },
  {
   "cell_type": "code",
   "execution_count": 158,
   "metadata": {},
   "outputs": [
    {
     "name": "stdout",
     "output_type": "stream",
     "text": [
      "(784,) (784, 784)\n",
      "[  1.92380670e+14   1.92380670e+14   1.92380670e+14   1.92380670e+14\n",
      "   1.92380670e+14   1.92380670e+14   1.92380670e+14   1.92380670e+14\n",
      "   1.92380670e+14   1.92380670e+14   1.92380670e+14   1.92380670e+14\n",
      "   1.92380670e+14   1.92380670e+14   1.92380670e+14   1.92380670e+14\n",
      "   1.92380670e+14   1.92380670e+14   1.92380670e+14   1.92380670e+14]\n"
     ]
    }
   ],
   "source": [
    "\n",
    "def tmp():\n",
    "    idx = item_list[:20]\n",
    "    mean = np.mean(features[[idx]], axis = 0)\n",
    "    cov = np.cov(features[[idx]], rowvar=0)\n",
    "    print mean.shape, cov.shape\n",
    "    print np.apply_along_axis(multivariate_normal.pdf, 1, features[[idx]], mean, cov, True)\n",
    "tmp()"
   ]
  },
  {
   "cell_type": "code",
   "execution_count": 194,
   "metadata": {
    "collapsed": true
   },
   "outputs": [],
   "source": [
    "def cal_meancov(features, items, label, n_cluster):\n",
    "    mean = [np.mean(features[items[label == i]], axis = 0) for i in range(n_cluster)]\n",
    "    cov = [np.cov(features[items[label == i]], rowvar = 0) for i in range(n_cluster)]\n",
    "    return mean, cov"
   ]
  },
  {
   "cell_type": "code",
   "execution_count": 274,
   "metadata": {
    "collapsed": true
   },
   "outputs": [],
   "source": [
    "def  my_gmm(items, features, n_cluster):\n",
    "    kmeans = kmeans_cal(features[items], n_cluster)\n",
    "    label_init = kmeans.labels_\n",
    "    mean, cov = cal_meancov(features, items, label_init, n_cluster)\n",
    "    p_y = np.array([1.0/n_cluster] * n_cluster).reshape(-1, 1)\n",
    "\n",
    "    iter = 20\n",
    "    converge = False\n",
    "    while (iter > 0 and not converge):\n",
    "        # e step\n",
    "        p_x_y = np.vstack([np.apply_along_axis(multivariate_normal.pdf, 1, features[[items]], mean[k], cov[k], True) \\\n",
    "                                                for k in range(n_cluster)]).T # N * K\n",
    "        p_y_x = p_x_y * p_y.reshape(1, -1) # N * K\n",
    "        p_x = np.sum(p_x_y, axis = 1).reshape(-1, 1) # N * 1\n",
    "        p_y_x = (p_y_x / p_x).T # N * K\n",
    "        \n",
    "        # m step       \n",
    "        sum_weight = np.sum(p_y_x, axis = 1).reshape(-1, 1) # K x 1\n",
    "        \n",
    "        mean = np.dot(p_y_x, features[items]) * (1.0/sum_weight) # K x F\n",
    "        x_submean = np.array([features[items] - mean[k] for k in range(n_cluster)])\n",
    "\n",
    "        cov = [np.dot(np.multiply(x_submean[k].T, p_y_x[k]), x_submean[k]) / sum_weight[k] for k in range(n_cluster)]\n",
    "        p_y = np.dot(p_x_y.T, p_x).reshape(-1, 1) # K x N * N x 1\n",
    "        \n",
    "        print iter, np.mean(np.log(p_x))\n",
    "        iter -= 1\n",
    "    return p_y, mean, cov"
   ]
  },
  {
   "cell_type": "code",
   "execution_count": 13,
   "metadata": {
    "collapsed": true
   },
   "outputs": [],
   "source": [
    "def  validate(gmm, usr_list, features):\n",
    "    means, covs, weights = gmm.means_, gmm.covariances_, gmm.weights_\n",
    "    clusters = [Cluster(means[i], covs[i], weights[i]) for i in range(len(means))]\n",
    "    \n",
    "    p_users = []\n",
    "    for usr in usr_list:\n",
    "        p_user = cal_ptrans_user(usr, features, clusters)\n",
    "        p_users.append(p_user)\n",
    "        print p_user\n",
    "    return np.array(p_users).mean()"
   ]
  },
  {
   "cell_type": "markdown",
   "metadata": {},
   "source": [
    "## Debug"
   ]
  },
  {
   "cell_type": "code",
   "execution_count": 259,
   "metadata": {},
   "outputs": [
    {
     "name": "stdout",
     "output_type": "stream",
     "text": [
      "(60, 7) <type 'numpy.ndarray'>\n"
     ]
    }
   ],
   "source": [
    "data = np.array([np.random.normal(loc=10.0, scale=1.0, size=(20, 7))] + [np.random.normal(loc=20.0, scale=1.0, size=(20, 7))] + [np.random.normal(loc=50.0, scale=1.0, size=(20, 7))]).reshape(60, 7)\n",
    "N, _ = data.shape\n",
    "K = 3\n",
    "print data.shape, type(data)"
   ]
  },
  {
   "cell_type": "code",
   "execution_count": 270,
   "metadata": {
    "scrolled": false
   },
   "outputs": [
    {
     "name": "stdout",
     "output_type": "stream",
     "text": [
      "20 -12.7604288987\n",
      "19 -12.472567208\n",
      "18 -12.3125767144\n",
      "17 -12.2094962694\n",
      "16 -12.1386880379\n",
      "15 -12.1202728674\n",
      "14 -12.1021861117\n",
      "13 -12.065644221\n",
      "12 -12.0482573997\n",
      "11 -12.0248174028\n",
      "10 -12.0030535597\n",
      "9 -12.0014012181\n",
      "8 -12.0009407176\n",
      "7 -12.0007598954\n",
      "6 -12.000684872\n",
      "5 -12.0006421285\n",
      "4 -12.000604466\n",
      "3 -12.0005627467\n",
      "2 -12.000515067\n",
      "1 -12.0004633653\n",
      "[[ 25.8543696   26.82300346  25.66420291  26.52441132  26.66013374\n",
      "   26.22988166  25.69745427]\n",
      " [ 32.52733427  32.35261037  32.54073799  32.28105042  32.1778641\n",
      "   31.97208452  32.76126487]\n",
      " [ 22.85116206  22.48767773  22.75261345  22.40397196  23.30197324\n",
      "   23.10060802  23.21072158]]\n"
     ]
    }
   ],
   "source": [
    "p_y, mean, cov = my_gmm(np.array(range(60)), data, n_cluster = 3)\n",
    "print mean"
   ]
  },
  {
   "cell_type": "code",
   "execution_count": 275,
   "metadata": {},
   "outputs": [
    {
     "name": "stdout",
     "output_type": "stream",
     "text": [
      "20 -9.77325395284\n",
      "19 -9.76872742248\n",
      "18 -9.76872742248\n",
      "17 -9.76872742248\n",
      "16 -9.76872742248\n",
      "15 -9.76872742248\n",
      "14 -9.76872742248\n",
      "13 -9.76872742248\n",
      "12 -9.76872742248\n",
      "11 -9.76872742248\n",
      "10 -9.76872742248\n",
      "9 -9.76872742248\n",
      "8 -9.76872742248\n",
      "7 -9.76872742248\n",
      "6 -9.76872742248\n",
      "5 -9.76872742248\n",
      "4 -9.76872742248\n",
      "3 -9.76872742248\n",
      "2 -9.76872742248\n",
      "1 -9.76872742248\n"
     ]
    }
   ],
   "source": [
    "p_y, mean, cov = my_gmm(np.array(range(60)), data, n_cluster = 3)\n"
   ]
  },
  {
   "cell_type": "code",
   "execution_count": 276,
   "metadata": {},
   "outputs": [
    {
     "name": "stdout",
     "output_type": "stream",
     "text": [
      "20 inf\n"
     ]
    },
    {
     "name": "stderr",
     "output_type": "stream",
     "text": [
      "/home/anla/Apps/anaconda2/lib/python2.7/site-packages/ipykernel_launcher.py:14: RuntimeWarning: invalid value encountered in divide\n",
      "  \n",
      "/home/anla/Apps/anaconda2/lib/python2.7/site-packages/ipykernel_launcher.py:19: RuntimeWarning: divide by zero encountered in divide\n",
      "/home/anla/Apps/anaconda2/lib/python2.7/site-packages/ipykernel_launcher.py:19: RuntimeWarning: invalid value encountered in multiply\n"
     ]
    },
    {
     "ename": "ValueError",
     "evalue": "array must not contain infs or NaNs",
     "output_type": "error",
     "traceback": [
      "\u001b[0;31m---------------------------------------------------------------------------\u001b[0m",
      "\u001b[0;31mValueError\u001b[0m                                Traceback (most recent call last)",
      "\u001b[0;32m<ipython-input-276-cc59467d7599>\u001b[0m in \u001b[0;36m<module>\u001b[0;34m()\u001b[0m\n\u001b[0;32m----> 1\u001b[0;31m \u001b[0mw_y\u001b[0m\u001b[0;34m,\u001b[0m \u001b[0mmean\u001b[0m\u001b[0;34m,\u001b[0m \u001b[0mcov\u001b[0m \u001b[0;34m=\u001b[0m \u001b[0mmy_gmm\u001b[0m\u001b[0;34m(\u001b[0m\u001b[0mitem_list_small1\u001b[0m\u001b[0;34m[\u001b[0m\u001b[0;34m:\u001b[0m\u001b[0;36m200\u001b[0m\u001b[0;34m]\u001b[0m\u001b[0;34m,\u001b[0m \u001b[0mfeatures\u001b[0m\u001b[0;34m,\u001b[0m \u001b[0mn_cluster\u001b[0m \u001b[0;34m=\u001b[0m \u001b[0;36m32\u001b[0m\u001b[0;34m)\u001b[0m\u001b[0;34m\u001b[0m\u001b[0m\n\u001b[0m",
      "\u001b[0;32m<ipython-input-274-54fe3ac63aaa>\u001b[0m in \u001b[0;36mmy_gmm\u001b[0;34m(items, features, n_cluster)\u001b[0m\n\u001b[1;32m      9\u001b[0m     \u001b[0;32mwhile\u001b[0m \u001b[0;34m(\u001b[0m\u001b[0miter\u001b[0m \u001b[0;34m>\u001b[0m \u001b[0;36m0\u001b[0m \u001b[0;32mand\u001b[0m \u001b[0;32mnot\u001b[0m \u001b[0mconverge\u001b[0m\u001b[0;34m)\u001b[0m\u001b[0;34m:\u001b[0m\u001b[0;34m\u001b[0m\u001b[0m\n\u001b[1;32m     10\u001b[0m         \u001b[0;31m# e step\u001b[0m\u001b[0;34m\u001b[0m\u001b[0;34m\u001b[0m\u001b[0m\n\u001b[0;32m---> 11\u001b[0;31m         \u001b[0mp_x_y\u001b[0m \u001b[0;34m=\u001b[0m \u001b[0mnp\u001b[0m\u001b[0;34m.\u001b[0m\u001b[0mvstack\u001b[0m\u001b[0;34m(\u001b[0m\u001b[0;34m[\u001b[0m\u001b[0mnp\u001b[0m\u001b[0;34m.\u001b[0m\u001b[0mapply_along_axis\u001b[0m\u001b[0;34m(\u001b[0m\u001b[0mmultivariate_normal\u001b[0m\u001b[0;34m.\u001b[0m\u001b[0mpdf\u001b[0m\u001b[0;34m,\u001b[0m \u001b[0;36m1\u001b[0m\u001b[0;34m,\u001b[0m \u001b[0mfeatures\u001b[0m\u001b[0;34m[\u001b[0m\u001b[0;34m[\u001b[0m\u001b[0mitems\u001b[0m\u001b[0;34m]\u001b[0m\u001b[0;34m]\u001b[0m\u001b[0;34m,\u001b[0m \u001b[0mmean\u001b[0m\u001b[0;34m[\u001b[0m\u001b[0mk\u001b[0m\u001b[0;34m]\u001b[0m\u001b[0;34m,\u001b[0m \u001b[0mcov\u001b[0m\u001b[0;34m[\u001b[0m\u001b[0mk\u001b[0m\u001b[0;34m]\u001b[0m\u001b[0;34m,\u001b[0m \u001b[0mTrue\u001b[0m\u001b[0;34m)\u001b[0m                                                 \u001b[0;32mfor\u001b[0m \u001b[0mk\u001b[0m \u001b[0;32min\u001b[0m \u001b[0mrange\u001b[0m\u001b[0;34m(\u001b[0m\u001b[0mn_cluster\u001b[0m\u001b[0;34m)\u001b[0m\u001b[0;34m]\u001b[0m\u001b[0;34m)\u001b[0m\u001b[0;34m.\u001b[0m\u001b[0mT\u001b[0m \u001b[0;31m# N * K\u001b[0m\u001b[0;34m\u001b[0m\u001b[0m\n\u001b[0m\u001b[1;32m     12\u001b[0m         \u001b[0mp_y_x\u001b[0m \u001b[0;34m=\u001b[0m \u001b[0mp_x_y\u001b[0m \u001b[0;34m*\u001b[0m \u001b[0mp_y\u001b[0m\u001b[0;34m.\u001b[0m\u001b[0mreshape\u001b[0m\u001b[0;34m(\u001b[0m\u001b[0;36m1\u001b[0m\u001b[0;34m,\u001b[0m \u001b[0;34m-\u001b[0m\u001b[0;36m1\u001b[0m\u001b[0;34m)\u001b[0m \u001b[0;31m# N * K\u001b[0m\u001b[0;34m\u001b[0m\u001b[0m\n\u001b[1;32m     13\u001b[0m         \u001b[0mp_x\u001b[0m \u001b[0;34m=\u001b[0m \u001b[0mnp\u001b[0m\u001b[0;34m.\u001b[0m\u001b[0msum\u001b[0m\u001b[0;34m(\u001b[0m\u001b[0mp_x_y\u001b[0m\u001b[0;34m,\u001b[0m \u001b[0maxis\u001b[0m \u001b[0;34m=\u001b[0m \u001b[0;36m1\u001b[0m\u001b[0;34m)\u001b[0m\u001b[0;34m.\u001b[0m\u001b[0mreshape\u001b[0m\u001b[0;34m(\u001b[0m\u001b[0;34m-\u001b[0m\u001b[0;36m1\u001b[0m\u001b[0;34m,\u001b[0m \u001b[0;36m1\u001b[0m\u001b[0;34m)\u001b[0m \u001b[0;31m# N * 1\u001b[0m\u001b[0;34m\u001b[0m\u001b[0m\n",
      "\u001b[0;32m/home/anla/Apps/anaconda2/lib/python2.7/site-packages/numpy/lib/shape_base.pyc\u001b[0m in \u001b[0;36mapply_along_axis\u001b[0;34m(func1d, axis, arr, *args, **kwargs)\u001b[0m\n\u001b[1;32m     89\u001b[0m     \u001b[0moutshape\u001b[0m \u001b[0;34m=\u001b[0m \u001b[0masarray\u001b[0m\u001b[0;34m(\u001b[0m\u001b[0marr\u001b[0m\u001b[0;34m.\u001b[0m\u001b[0mshape\u001b[0m\u001b[0;34m)\u001b[0m\u001b[0;34m.\u001b[0m\u001b[0mtake\u001b[0m\u001b[0;34m(\u001b[0m\u001b[0mindlist\u001b[0m\u001b[0;34m)\u001b[0m\u001b[0;34m\u001b[0m\u001b[0m\n\u001b[1;32m     90\u001b[0m     \u001b[0mi\u001b[0m\u001b[0;34m.\u001b[0m\u001b[0mput\u001b[0m\u001b[0;34m(\u001b[0m\u001b[0mindlist\u001b[0m\u001b[0;34m,\u001b[0m \u001b[0mind\u001b[0m\u001b[0;34m)\u001b[0m\u001b[0;34m\u001b[0m\u001b[0m\n\u001b[0;32m---> 91\u001b[0;31m     \u001b[0mres\u001b[0m \u001b[0;34m=\u001b[0m \u001b[0mfunc1d\u001b[0m\u001b[0;34m(\u001b[0m\u001b[0marr\u001b[0m\u001b[0;34m[\u001b[0m\u001b[0mtuple\u001b[0m\u001b[0;34m(\u001b[0m\u001b[0mi\u001b[0m\u001b[0;34m.\u001b[0m\u001b[0mtolist\u001b[0m\u001b[0;34m(\u001b[0m\u001b[0;34m)\u001b[0m\u001b[0;34m)\u001b[0m\u001b[0;34m]\u001b[0m\u001b[0;34m,\u001b[0m \u001b[0;34m*\u001b[0m\u001b[0margs\u001b[0m\u001b[0;34m,\u001b[0m \u001b[0;34m**\u001b[0m\u001b[0mkwargs\u001b[0m\u001b[0;34m)\u001b[0m\u001b[0;34m\u001b[0m\u001b[0m\n\u001b[0m\u001b[1;32m     92\u001b[0m     \u001b[0;31m#  if res is a number, then we have a smaller output array\u001b[0m\u001b[0;34m\u001b[0m\u001b[0;34m\u001b[0m\u001b[0m\n\u001b[1;32m     93\u001b[0m     \u001b[0;32mif\u001b[0m \u001b[0misscalar\u001b[0m\u001b[0;34m(\u001b[0m\u001b[0mres\u001b[0m\u001b[0;34m)\u001b[0m\u001b[0;34m:\u001b[0m\u001b[0;34m\u001b[0m\u001b[0m\n",
      "\u001b[0;32m/home/anla/Apps/anaconda2/lib/python2.7/site-packages/scipy/stats/_multivariate.pyc\u001b[0m in \u001b[0;36mpdf\u001b[0;34m(self, x, mean, cov, allow_singular)\u001b[0m\n\u001b[1;32m    504\u001b[0m         \u001b[0mdim\u001b[0m\u001b[0;34m,\u001b[0m \u001b[0mmean\u001b[0m\u001b[0;34m,\u001b[0m \u001b[0mcov\u001b[0m \u001b[0;34m=\u001b[0m \u001b[0mself\u001b[0m\u001b[0;34m.\u001b[0m\u001b[0m_process_parameters\u001b[0m\u001b[0;34m(\u001b[0m\u001b[0mNone\u001b[0m\u001b[0;34m,\u001b[0m \u001b[0mmean\u001b[0m\u001b[0;34m,\u001b[0m \u001b[0mcov\u001b[0m\u001b[0;34m)\u001b[0m\u001b[0;34m\u001b[0m\u001b[0m\n\u001b[1;32m    505\u001b[0m         \u001b[0mx\u001b[0m \u001b[0;34m=\u001b[0m \u001b[0mself\u001b[0m\u001b[0;34m.\u001b[0m\u001b[0m_process_quantiles\u001b[0m\u001b[0;34m(\u001b[0m\u001b[0mx\u001b[0m\u001b[0;34m,\u001b[0m \u001b[0mdim\u001b[0m\u001b[0;34m)\u001b[0m\u001b[0;34m\u001b[0m\u001b[0m\n\u001b[0;32m--> 506\u001b[0;31m         \u001b[0mpsd\u001b[0m \u001b[0;34m=\u001b[0m \u001b[0m_PSD\u001b[0m\u001b[0;34m(\u001b[0m\u001b[0mcov\u001b[0m\u001b[0;34m,\u001b[0m \u001b[0mallow_singular\u001b[0m\u001b[0;34m=\u001b[0m\u001b[0mallow_singular\u001b[0m\u001b[0;34m)\u001b[0m\u001b[0;34m\u001b[0m\u001b[0m\n\u001b[0m\u001b[1;32m    507\u001b[0m         \u001b[0mout\u001b[0m \u001b[0;34m=\u001b[0m \u001b[0mnp\u001b[0m\u001b[0;34m.\u001b[0m\u001b[0mexp\u001b[0m\u001b[0;34m(\u001b[0m\u001b[0mself\u001b[0m\u001b[0;34m.\u001b[0m\u001b[0m_logpdf\u001b[0m\u001b[0;34m(\u001b[0m\u001b[0mx\u001b[0m\u001b[0;34m,\u001b[0m \u001b[0mmean\u001b[0m\u001b[0;34m,\u001b[0m \u001b[0mpsd\u001b[0m\u001b[0;34m.\u001b[0m\u001b[0mU\u001b[0m\u001b[0;34m,\u001b[0m \u001b[0mpsd\u001b[0m\u001b[0;34m.\u001b[0m\u001b[0mlog_pdet\u001b[0m\u001b[0;34m,\u001b[0m \u001b[0mpsd\u001b[0m\u001b[0;34m.\u001b[0m\u001b[0mrank\u001b[0m\u001b[0;34m)\u001b[0m\u001b[0;34m)\u001b[0m\u001b[0;34m\u001b[0m\u001b[0m\n\u001b[1;32m    508\u001b[0m         \u001b[0;32mreturn\u001b[0m \u001b[0m_squeeze_output\u001b[0m\u001b[0;34m(\u001b[0m\u001b[0mout\u001b[0m\u001b[0;34m)\u001b[0m\u001b[0;34m\u001b[0m\u001b[0m\n",
      "\u001b[0;32m/home/anla/Apps/anaconda2/lib/python2.7/site-packages/scipy/stats/_multivariate.pyc\u001b[0m in \u001b[0;36m__init__\u001b[0;34m(self, M, cond, rcond, lower, check_finite, allow_singular)\u001b[0m\n\u001b[1;32m    148\u001b[0m         \u001b[0;31m# Note that eigh takes care of array conversion, chkfinite,\u001b[0m\u001b[0;34m\u001b[0m\u001b[0;34m\u001b[0m\u001b[0m\n\u001b[1;32m    149\u001b[0m         \u001b[0;31m# and assertion that the matrix is square.\u001b[0m\u001b[0;34m\u001b[0m\u001b[0;34m\u001b[0m\u001b[0m\n\u001b[0;32m--> 150\u001b[0;31m         \u001b[0ms\u001b[0m\u001b[0;34m,\u001b[0m \u001b[0mu\u001b[0m \u001b[0;34m=\u001b[0m \u001b[0mscipy\u001b[0m\u001b[0;34m.\u001b[0m\u001b[0mlinalg\u001b[0m\u001b[0;34m.\u001b[0m\u001b[0meigh\u001b[0m\u001b[0;34m(\u001b[0m\u001b[0mM\u001b[0m\u001b[0;34m,\u001b[0m \u001b[0mlower\u001b[0m\u001b[0;34m=\u001b[0m\u001b[0mlower\u001b[0m\u001b[0;34m,\u001b[0m \u001b[0mcheck_finite\u001b[0m\u001b[0;34m=\u001b[0m\u001b[0mcheck_finite\u001b[0m\u001b[0;34m)\u001b[0m\u001b[0;34m\u001b[0m\u001b[0m\n\u001b[0m\u001b[1;32m    151\u001b[0m \u001b[0;34m\u001b[0m\u001b[0m\n\u001b[1;32m    152\u001b[0m         \u001b[0meps\u001b[0m \u001b[0;34m=\u001b[0m \u001b[0m_eigvalsh_to_eps\u001b[0m\u001b[0;34m(\u001b[0m\u001b[0ms\u001b[0m\u001b[0;34m,\u001b[0m \u001b[0mcond\u001b[0m\u001b[0;34m,\u001b[0m \u001b[0mrcond\u001b[0m\u001b[0;34m)\u001b[0m\u001b[0;34m\u001b[0m\u001b[0m\n",
      "\u001b[0;32m/home/anla/Apps/anaconda2/lib/python2.7/site-packages/scipy/linalg/decomp.pyc\u001b[0m in \u001b[0;36meigh\u001b[0;34m(a, b, lower, eigvals_only, overwrite_a, overwrite_b, turbo, eigvals, type, check_finite)\u001b[0m\n\u001b[1;32m    325\u001b[0m \u001b[0;34m\u001b[0m\u001b[0m\n\u001b[1;32m    326\u001b[0m     \"\"\"\n\u001b[0;32m--> 327\u001b[0;31m     \u001b[0ma1\u001b[0m \u001b[0;34m=\u001b[0m \u001b[0m_asarray_validated\u001b[0m\u001b[0;34m(\u001b[0m\u001b[0ma\u001b[0m\u001b[0;34m,\u001b[0m \u001b[0mcheck_finite\u001b[0m\u001b[0;34m=\u001b[0m\u001b[0mcheck_finite\u001b[0m\u001b[0;34m)\u001b[0m\u001b[0;34m\u001b[0m\u001b[0m\n\u001b[0m\u001b[1;32m    328\u001b[0m     \u001b[0;32mif\u001b[0m \u001b[0mlen\u001b[0m\u001b[0;34m(\u001b[0m\u001b[0ma1\u001b[0m\u001b[0;34m.\u001b[0m\u001b[0mshape\u001b[0m\u001b[0;34m)\u001b[0m \u001b[0;34m!=\u001b[0m \u001b[0;36m2\u001b[0m \u001b[0;32mor\u001b[0m \u001b[0ma1\u001b[0m\u001b[0;34m.\u001b[0m\u001b[0mshape\u001b[0m\u001b[0;34m[\u001b[0m\u001b[0;36m0\u001b[0m\u001b[0;34m]\u001b[0m \u001b[0;34m!=\u001b[0m \u001b[0ma1\u001b[0m\u001b[0;34m.\u001b[0m\u001b[0mshape\u001b[0m\u001b[0;34m[\u001b[0m\u001b[0;36m1\u001b[0m\u001b[0;34m]\u001b[0m\u001b[0;34m:\u001b[0m\u001b[0;34m\u001b[0m\u001b[0m\n\u001b[1;32m    329\u001b[0m         \u001b[0;32mraise\u001b[0m \u001b[0mValueError\u001b[0m\u001b[0;34m(\u001b[0m\u001b[0;34m'expected square matrix'\u001b[0m\u001b[0;34m)\u001b[0m\u001b[0;34m\u001b[0m\u001b[0m\n",
      "\u001b[0;32m/home/anla/Apps/anaconda2/lib/python2.7/site-packages/scipy/_lib/_util.pyc\u001b[0m in \u001b[0;36m_asarray_validated\u001b[0;34m(a, check_finite, sparse_ok, objects_ok, mask_ok, as_inexact)\u001b[0m\n\u001b[1;32m    236\u001b[0m             \u001b[0;32mraise\u001b[0m \u001b[0mValueError\u001b[0m\u001b[0;34m(\u001b[0m\u001b[0;34m'masked arrays are not supported'\u001b[0m\u001b[0;34m)\u001b[0m\u001b[0;34m\u001b[0m\u001b[0m\n\u001b[1;32m    237\u001b[0m     \u001b[0mtoarray\u001b[0m \u001b[0;34m=\u001b[0m \u001b[0mnp\u001b[0m\u001b[0;34m.\u001b[0m\u001b[0masarray_chkfinite\u001b[0m \u001b[0;32mif\u001b[0m \u001b[0mcheck_finite\u001b[0m \u001b[0;32melse\u001b[0m \u001b[0mnp\u001b[0m\u001b[0;34m.\u001b[0m\u001b[0masarray\u001b[0m\u001b[0;34m\u001b[0m\u001b[0m\n\u001b[0;32m--> 238\u001b[0;31m     \u001b[0ma\u001b[0m \u001b[0;34m=\u001b[0m \u001b[0mtoarray\u001b[0m\u001b[0;34m(\u001b[0m\u001b[0ma\u001b[0m\u001b[0;34m)\u001b[0m\u001b[0;34m\u001b[0m\u001b[0m\n\u001b[0m\u001b[1;32m    239\u001b[0m     \u001b[0;32mif\u001b[0m \u001b[0;32mnot\u001b[0m \u001b[0mobjects_ok\u001b[0m\u001b[0;34m:\u001b[0m\u001b[0;34m\u001b[0m\u001b[0m\n\u001b[1;32m    240\u001b[0m         \u001b[0;32mif\u001b[0m \u001b[0ma\u001b[0m\u001b[0;34m.\u001b[0m\u001b[0mdtype\u001b[0m \u001b[0;32mis\u001b[0m \u001b[0mnp\u001b[0m\u001b[0;34m.\u001b[0m\u001b[0mdtype\u001b[0m\u001b[0;34m(\u001b[0m\u001b[0;34m'O'\u001b[0m\u001b[0;34m)\u001b[0m\u001b[0;34m:\u001b[0m\u001b[0;34m\u001b[0m\u001b[0m\n",
      "\u001b[0;32m/home/anla/Apps/anaconda2/lib/python2.7/site-packages/numpy/lib/function_base.pyc\u001b[0m in \u001b[0;36masarray_chkfinite\u001b[0;34m(a, dtype, order)\u001b[0m\n\u001b[1;32m   1213\u001b[0m     \u001b[0;32mif\u001b[0m \u001b[0ma\u001b[0m\u001b[0;34m.\u001b[0m\u001b[0mdtype\u001b[0m\u001b[0;34m.\u001b[0m\u001b[0mchar\u001b[0m \u001b[0;32min\u001b[0m \u001b[0mtypecodes\u001b[0m\u001b[0;34m[\u001b[0m\u001b[0;34m'AllFloat'\u001b[0m\u001b[0;34m]\u001b[0m \u001b[0;32mand\u001b[0m \u001b[0;32mnot\u001b[0m \u001b[0mnp\u001b[0m\u001b[0;34m.\u001b[0m\u001b[0misfinite\u001b[0m\u001b[0;34m(\u001b[0m\u001b[0ma\u001b[0m\u001b[0;34m)\u001b[0m\u001b[0;34m.\u001b[0m\u001b[0mall\u001b[0m\u001b[0;34m(\u001b[0m\u001b[0;34m)\u001b[0m\u001b[0;34m:\u001b[0m\u001b[0;34m\u001b[0m\u001b[0m\n\u001b[1;32m   1214\u001b[0m         raise ValueError(\n\u001b[0;32m-> 1215\u001b[0;31m             \"array must not contain infs or NaNs\")\n\u001b[0m\u001b[1;32m   1216\u001b[0m     \u001b[0;32mreturn\u001b[0m \u001b[0ma\u001b[0m\u001b[0;34m\u001b[0m\u001b[0m\n\u001b[1;32m   1217\u001b[0m \u001b[0;34m\u001b[0m\u001b[0m\n",
      "\u001b[0;31mValueError\u001b[0m: array must not contain infs or NaNs"
     ]
    }
   ],
   "source": [
    "w_y, mean, cov = my_gmm(item_list_small1[:200], features, n_cluster = 32)"
   ]
  },
  {
   "cell_type": "markdown",
   "metadata": {},
   "source": [
    "## Run"
   ]
  },
  {
   "cell_type": "markdown",
   "metadata": {},
   "source": [
    "### Baseline"
   ]
  },
  {
   "cell_type": "code",
   "execution_count": 27,
   "metadata": {},
   "outputs": [
    {
     "data": {
      "text/plain": [
       "GaussianMixture(covariance_type='full', init_params='kmeans', max_iter=100,\n",
       "        means_init=array([[ 0.,  0., ...,  0.,  0.],\n",
       "       [ 0.,  0., ...,  0.,  0.],\n",
       "       ...,\n",
       "       [ 0.,  0., ...,  0.,  0.],\n",
       "       [ 0.,  0., ...,  0.,  0.]]),\n",
       "        n_components=32, n_init=1, precisions_init=None, random_state=0,\n",
       "        reg_covar=1e-06, tol=0.001, verbose=0, verbose_interval=10,\n",
       "        warm_start=False, weights_init=None)"
      ]
     },
     "execution_count": 27,
     "metadata": {},
     "output_type": "execute_result"
    }
   ],
   "source": [
    "gmm = find_clusters(item_list_small1, features, n_cluster=32)\n",
    "gmm"
   ]
  },
  {
   "cell_type": "code",
   "execution_count": 28,
   "metadata": {
    "collapsed": true
   },
   "outputs": [],
   "source": [
    "means, covs, weights = gmm.means_, gmm.covariances_, gmm.weights_\n",
    "clusters = [Cluster(means[i], covs[i], weights[i]) for i in range(len(means))]"
   ]
  },
  {
   "cell_type": "code",
   "execution_count": null,
   "metadata": {
    "scrolled": true
   },
   "outputs": [
    {
     "name": "stdout",
     "output_type": "stream",
     "text": [
      "-14464.7699325\n",
      "11967.2023176\n",
      "90.0797264361\n",
      "12209.6058061\n",
      "12346.6630891\n",
      "23901.7393533\n",
      "7246.52643524\n",
      "18198.7563252\n",
      "-1435.56535379\n",
      "6088.90851677\n",
      "10829.1549864\n",
      "-26546.8499828\n",
      "-52066.1451245\n",
      "24213.7845474\n",
      "-33477.2341046\n",
      "5321.68112101\n",
      "8154.38468958\n",
      "10299.7184326\n",
      "21053.7116404\n",
      "14190.1849448\n",
      "-3810.67958563\n",
      "4842.60712368\n",
      "17885.4688179\n",
      "13529.9294485\n",
      "16164.9407064\n",
      "17118.5641051\n",
      "4041.42254556\n",
      "-1822.98580168\n",
      "15113.3395535\n",
      "-13101.4519725\n",
      "15780.9542663\n",
      "3828.96561454\n",
      "8412.9170827\n",
      "13480.0797003\n",
      "11721.8427875\n",
      "24733.688572\n",
      "11820.587747\n",
      "11821.4538249\n",
      "-53782.7900892\n",
      "-4945.13315772\n",
      "18934.1635147\n",
      "13026.3288967\n",
      "-8100.13375376\n",
      "18123.5070394\n",
      "22103.1064673\n",
      "11480.8570812\n",
      "-16641.1051322\n",
      "-8395.9387903\n",
      "-94782.1859585\n",
      "14060.5550895\n",
      "6406.98436968\n",
      "-34810.6137321\n",
      "-17369.7484745\n",
      "29870.7530617\n",
      "14465.664894\n",
      "18999.964355\n",
      "5636.08518467\n",
      "25302.9033278\n",
      "3821.70721296\n",
      "23883.1304035\n",
      "-2866.98303899\n",
      "-1685.56100494\n",
      "-16040.4110154\n",
      "10181.026481\n",
      "20667.6041894\n",
      "-108281.032625\n",
      "25310.019494\n",
      "24929.0262989\n",
      "40464.1182743\n",
      "-15353.0116436\n",
      "-36235.6336815\n",
      "12530.3089423\n",
      "10619.7987287\n",
      "8188.08201407\n",
      "36760.2075888\n",
      "4338.67702213\n",
      "11348.1711919\n",
      "7546.27302389\n",
      "8578.65119923\n",
      "16295.2263396\n",
      "-29192.7249038\n",
      "-13215.1589299\n",
      "2751.0619729\n",
      "4714.00787213\n",
      "-5976.07848108\n",
      "8943.06619457\n",
      "-85038.3612999\n",
      "17258.499604\n",
      "13520.842327\n",
      "8501.88586553\n",
      "5911.09881815\n",
      "14685.6166384\n",
      "24855.7516745\n",
      "14093.4165399\n",
      "-29330.4977827\n",
      "23429.9260288\n",
      "25389.3821192\n",
      "13047.1419311\n",
      "-96462.237422\n",
      "20263.1063044\n",
      "-3085.76421441\n",
      "-48346.6781855\n",
      "6363.81332316\n",
      "3258.19577187\n",
      "10313.8056398\n",
      "-8609.85555564\n",
      "14852.7268358\n",
      "-171678.813081\n",
      "-10356.8296628\n",
      "-4207.42279841\n",
      "24769.254985\n",
      "20135.9643029\n",
      "-24784.743362\n",
      "12400.1189402\n",
      "-7078.96595114\n",
      "10057.8965349\n",
      "1910.72906359\n",
      "9119.55175998\n",
      "31150.0917301\n",
      "25748.0733109\n",
      "-27165.8947758\n",
      "32.9303130764\n",
      "15246.0949066\n",
      "12735.5162888\n",
      "13033.8998878\n",
      "27250.2643283\n",
      "25234.6144209\n",
      "15803.2240018\n",
      "14183.0473288\n",
      "15941.4352303\n",
      "-5779.55683916\n",
      "769.095034572\n",
      "8286.16233197\n",
      "13101.3800438\n",
      "17599.5058208\n",
      "23419.0189488\n",
      "22883.1574754\n",
      "-51567.069702\n",
      "-10727.4332917\n",
      "1760.73991128\n",
      "21617.4142632\n",
      "18794.5757976\n",
      "3119.38110361\n",
      "6829.98312237\n",
      "-11156.8803298\n",
      "-45332.4487636\n",
      "-8721.85300488\n",
      "19210.5188896\n",
      "12888.8025547\n",
      "-20712.5099982\n",
      "13759.1402939\n",
      "16143.0434211\n",
      "-24890.596219\n",
      "4833.75633559\n",
      "7957.04340523\n",
      "25347.6417831\n",
      "7292.36732501\n",
      "21871.6825078\n",
      "14172.9518356\n",
      "17936.3089323\n",
      "13020.1834739\n",
      "13973.0233608\n",
      "15095.7188155\n",
      "-446.195668818\n",
      "-6996.1771681\n",
      "10936.9467901\n",
      "3159.57843059\n",
      "-30209.6083784\n",
      "16583.4725005\n",
      "22641.0315756\n",
      "-4305.8545192\n",
      "17328.6474954\n",
      "18790.624479\n",
      "-68006.6911426\n",
      "19784.7873494\n",
      "-1506.37570056\n",
      "24739.3147484\n",
      "10221.3169089\n",
      "19707.1611129\n",
      "7714.54178619\n",
      "-58095.0116668\n",
      "6491.11281468\n",
      "3877.08031216\n",
      "21447.4399958\n",
      "-34429.7838529\n",
      "12679.1281762\n",
      "28429.2943658\n",
      "14179.021386\n",
      "11431.6563117\n",
      "8981.48778785\n",
      "7998.12846438\n",
      "-2526.00214302\n",
      "799.354982299\n",
      "14152.575963\n",
      "-10280.6370193\n",
      "-10422.8118332\n",
      "2230.72343063\n",
      "3504.95565519\n",
      "1604.54262746\n",
      "5839.12001444\n",
      "24154.2516803\n",
      "478.713791941\n",
      "14885.983804\n",
      "-38787.559789\n",
      "13622.9942565\n",
      "8460.02491934\n",
      "15594.0833373\n",
      "7862.34660644\n",
      "-13825.7845418\n",
      "-3216.08653173\n",
      "-17148.6266268\n",
      "3675.85170255\n",
      "4360.50180056\n",
      "5744.75946865\n",
      "-45137.0236309\n",
      "15020.2222013\n",
      "22747.8854005\n",
      "-7046.68256696\n",
      "21932.3067641\n",
      "-821.874160619\n",
      "-14978.2671015\n",
      "-46954.4013176\n",
      "-35146.1800526\n",
      "15732.5880063\n",
      "-14648.2687604\n",
      "13684.4281285\n",
      "25540.5519446\n",
      "12119.9332411\n",
      "5221.13454911\n",
      "-2856.7989576\n",
      "3025.943886\n",
      "-26245.041728\n",
      "6904.73609158\n",
      "82.5262587702\n",
      "9121.98979014\n",
      "20956.8439894\n",
      "-26400.3605829\n",
      "-38994.2117165\n",
      "12296.4232005\n",
      "19579.4701737\n",
      "7719.84457573\n",
      "10681.3340076\n",
      "3021.39205736\n",
      "10247.6670094\n",
      "18721.6178621\n",
      "31632.172993\n",
      "5135.82518726\n",
      "14211.8864879\n",
      "3942.16680105\n",
      "-30895.8754266\n",
      "11509.6954418\n",
      "-5073.62401162\n",
      "-5460.68082145\n",
      "10809.6909124\n",
      "20423.5037564\n",
      "16176.0309007\n",
      "34193.8300461\n",
      "17713.1064633\n",
      "-99230.8578882\n",
      "34467.1933511\n",
      "-1143.38905299\n",
      "14307.5687657\n",
      "12531.6535453\n",
      "6405.57622906\n",
      "25931.7166499\n",
      "23769.6982555\n",
      "17628.2131429\n",
      "-128342.552562\n",
      "2790.89227223\n",
      "28071.7765013\n",
      "770.695642791\n",
      "7301.52757077\n",
      "18805.0330415\n",
      "-48668.8926554\n",
      "13551.0641325\n",
      "-18632.4437878\n",
      "19611.1757427\n",
      "12802.2829251\n",
      "16406.328245\n",
      "18300.9191594\n",
      "10634.7516885\n",
      "23128.4140281\n",
      "8600.46499159\n",
      "15691.9748538\n",
      "13261.8668144\n",
      "16564.0980888\n",
      "5660.23110123\n",
      "-713.871085878\n",
      "15017.5148259\n",
      "-18481.4320731\n",
      "-5865.40848295\n",
      "-1088.3595223\n",
      "-13920.4377678\n",
      "6452.7539902\n",
      "16972.0860628\n",
      "5559.91643689\n",
      "7157.31284723\n",
      "672.172785661\n",
      "-1212.98734215\n",
      "13421.066186\n",
      "24069.6809037\n",
      "6478.66549885\n",
      "18540.52742\n",
      "7346.54210317\n",
      "-596.570547787\n",
      "3867.27382156\n",
      "18269.6902864\n",
      "9534.78914461\n",
      "-38381.1730377\n",
      "-10921.9248882\n",
      "14689.3533096\n",
      "2833.78146993\n",
      "-79452.9741572\n",
      "4967.75941707\n",
      "17428.984204\n",
      "16008.5108449\n",
      "7783.7365334\n",
      "11871.3817114\n",
      "41874.7856801\n",
      "-18669.092549\n",
      "16175.6569308\n",
      "26985.3725731\n",
      "13256.7019708\n",
      "-3429.89973421\n",
      "17133.4484825\n",
      "2815.07229159\n",
      "17033.6219685\n",
      "11793.1111873\n",
      "5178.39366172\n",
      "5413.00436661\n",
      "22402.6791416\n",
      "-7928.52058498\n",
      "11086.8827219\n",
      "-87903.5943977\n",
      "35628.396411\n",
      "16419.8941859\n",
      "-66584.9487623\n",
      "8049.37607252\n",
      "10424.0479533\n",
      "13059.0607846\n",
      "26042.3390548\n",
      "-5611.24723727\n",
      "15257.764689\n",
      "-16625.3643645\n",
      "954.429974609\n",
      "10178.8239261\n",
      "-50700.6909843\n",
      "-1134.90932133\n",
      "18643.6666204\n",
      "-16474.0362093\n",
      "-5610.15934466\n",
      "-6741.65476258\n",
      "-13745.5235624\n",
      "14003.6232084\n",
      "-40695.1241397\n",
      "15626.3736004\n",
      "-60153.1729176\n",
      "-12066.9914202\n",
      "2954.71265329\n",
      "4915.53697409\n",
      "4240.67005069\n",
      "-10681.7735786\n",
      "-2608.19994598\n",
      "7844.77281714\n",
      "9339.51882011\n",
      "15291.8646481\n",
      "-14669.0222126\n",
      "-19005.9536219\n",
      "19499.8017371\n",
      "-97207.7737639\n",
      "15968.7017353\n",
      "16349.136386\n",
      "-9120.80114666\n",
      "-30536.671119\n",
      "11913.393123\n",
      "4374.13135975\n",
      "6303.93015722\n",
      "25652.4011448\n",
      "7106.87556089\n",
      "16880.347071\n",
      "24604.4383324\n",
      "-15216.0567182\n",
      "-57914.6731464\n",
      "11960.1010468\n",
      "15901.0287789\n",
      "-19815.7043828\n",
      "20902.075931\n",
      "32661.8375185\n",
      "-18485.314945\n",
      "24929.9567411\n",
      "35183.3263662\n",
      "23299.8784482\n",
      "-17053.7753576\n",
      "12478.1666952\n",
      "19024.9892371\n",
      "18383.2629012\n",
      "9165.71902555\n",
      "-4485.7983011\n",
      "-11604.3800974\n",
      "12465.7832711\n",
      "23675.6284649\n",
      "19335.5842254\n",
      "14022.0313311\n",
      "-55924.2777473\n",
      "11419.5074134\n",
      "3138.59647205\n",
      "4383.57385781\n",
      "5256.75552907\n",
      "12474.5386704\n",
      "12340.8358489\n",
      "27838.8348635\n",
      "22245.06599\n",
      "16790.2602389\n",
      "22615.2139555\n",
      "-109936.723905\n",
      "2508.21760743\n",
      "6593.88602672\n",
      "29973.2238074\n",
      "-76619.3074231\n",
      "8016.20807884\n",
      "8411.10080892\n",
      "-5409.84093456\n",
      "20540.6841827\n",
      "-6852.88448469\n",
      "18915.0100596\n",
      "18459.6732027\n",
      "-29958.550106\n",
      "11577.4358012\n",
      "25444.3930761\n",
      "18635.8148824\n",
      "18.5453360921\n",
      "18632.7537131\n",
      "-3341.65027831\n",
      "27959.0315654\n",
      "19308.1756833\n",
      "14284.3189998\n",
      "-6531.76813134\n",
      "18451.4864335\n",
      "20198.5266557\n",
      "34058.0124038\n",
      "34430.9141935\n",
      "-67196.1303837\n",
      "-21288.4427277\n",
      "5676.8365219\n",
      "-9409.81712801\n",
      "-18883.3200163\n",
      "22337.0318039\n",
      "17121.9947507\n",
      "-5690.25563168\n",
      "21792.1233438\n",
      "17520.0730784\n",
      "8915.10520986\n",
      "41811.4276322\n",
      "14625.6532217\n",
      "-6541.70378552\n",
      "16392.9483419\n",
      "-11906.9906018\n",
      "-57747.122123\n",
      "23688.4960495\n"
     ]
    }
   ],
   "source": [
    "validate(gmm, usr_list_train, features)"
   ]
  }
 ],
 "metadata": {
  "kernelspec": {
   "display_name": "Python 2",
   "language": "python",
   "name": "python2"
  },
  "language_info": {
   "codemirror_mode": {
    "name": "ipython",
    "version": 2
   },
   "file_extension": ".py",
   "mimetype": "text/x-python",
   "name": "python",
   "nbconvert_exporter": "python",
   "pygments_lexer": "ipython2",
   "version": "2.7.13"
  }
 },
 "nbformat": 4,
 "nbformat_minor": 2
}
