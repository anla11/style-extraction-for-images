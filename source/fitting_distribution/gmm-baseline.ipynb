{
 "cells": [
  {
   "cell_type": "code",
   "execution_count": 12,
   "metadata": {
    "collapsed": true
   },
   "outputs": [],
   "source": [
    "import numpy as np\n",
    "import pandas as pd\n",
    "import math\n",
    "from scipy.stats import multivariate_normal\n",
    "from sklearn.mixture import GaussianMixture\n",
    "from sklearn.model_selection import StratifiedKFold\n"
   ]
  },
  {
   "cell_type": "markdown",
   "metadata": {},
   "source": [
    "## Read data"
   ]
  },
  {
   "cell_type": "code",
   "execution_count": 4,
   "metadata": {
    "collapsed": true
   },
   "outputs": [],
   "source": [
    "data = np.loadtxt('data.txt')"
   ]
  },
  {
   "cell_type": "code",
   "execution_count": 5,
   "metadata": {},
   "outputs": [
    {
     "data": {
      "text/plain": [
       "(9817, 784)"
      ]
     },
     "execution_count": 5,
     "metadata": {},
     "output_type": "execute_result"
    }
   ],
   "source": [
    "data.shape"
   ]
  },
  {
   "cell_type": "code",
   "execution_count": 7,
   "metadata": {},
   "outputs": [
    {
     "data": {
      "text/plain": [
       "310"
      ]
     },
     "execution_count": 7,
     "metadata": {},
     "output_type": "execute_result"
    }
   ],
   "source": [
    "import pickle\n",
    "usr_list = None\n",
    "with open ('usr_list.txt', 'rb') as fp:\n",
    "    usr_list = pickle.load(fp) \n",
    "len(usr_list)"
   ]
  },
  {
   "cell_type": "code",
   "execution_count": 23,
   "metadata": {},
   "outputs": [
    {
     "data": {
      "text/plain": [
       "9816"
      ]
     },
     "execution_count": 23,
     "metadata": {},
     "output_type": "execute_result"
    }
   ],
   "source": [
    "item_list = np.loadtxt('item_list.txt').astype(int)\n",
    "len(item_list)"
   ]
  },
  {
   "cell_type": "markdown",
   "metadata": {},
   "source": [
    "## Likelihood probability"
   ]
  },
  {
   "cell_type": "code",
   "execution_count": 93,
   "metadata": {
    "collapsed": true
   },
   "outputs": [],
   "source": [
    "#likelihood probablitiy\n",
    "\n",
    "def  cal_mean_var(X):\n",
    "    mean = np.mean(X, axis = 0)\n",
    "    cov = np.cov(X, axis = 0)\n",
    "    return mean, cov\n",
    "\n",
    "def  cal_px_y(x, mean, cov):\n",
    "    return multivariate_normal.logpdf(x, mean = mean, cov = cov)\n",
    "\n",
    "def  cal_px(px_ys, pys):\n",
    "    px = 0.0\n",
    "    for i in range(len(pys)):\n",
    "        px += px_ys[i] * pys[i]\n",
    "    return px\n",
    "\n",
    "def  cal_py(cluster, n):\n",
    "    return 1 - len(cluster) * 1.0 / n\n",
    "\n",
    "def  cal_py_x(px, py, px_y):\n",
    "    return px_y * py / px"
   ]
  },
  {
   "cell_type": "markdown",
   "metadata": {},
   "source": [
    "## Functions"
   ]
  },
  {
   "cell_type": "code",
   "execution_count": 84,
   "metadata": {
    "collapsed": true
   },
   "outputs": [],
   "source": [
    "class  Cluster:\n",
    "    def __init__(self, mean, cov, weight = 1):\n",
    "        self.mean = mean\n",
    "        self.cov = cov\n",
    "        self.weight = weight"
   ]
  },
  {
   "cell_type": "code",
   "execution_count": 82,
   "metadata": {},
   "outputs": [],
   "source": [
    "def cal_log_prob(p_items):\n",
    "    return np.sum(np.log(p_items))\n",
    "\n",
    "def cal_p_item_cluster(feature_item, cluster):\n",
    "    return cal_px_y(feature_item, cluster.mean, cluster.cov)\n",
    "    \n",
    "def cal_p_user_cluster(user, features, cluster):\n",
    "    p_item_cluster = [cal_p_item_cluster(features[item], cluster) for item in user]\n",
    "    return np.prod(p_item_cluster)\n",
    "\n",
    "def cal_p_user(user, features, clusters):\n",
    "    return np.sum([cluster.weight * cal_p_user_cluster(user, features, cluster) for cluster in clusters])\n",
    "\n",
    "def cal_p_item_user(item, features, user, clusters):\n",
    "    p_item_clusters = np.array([cal_p_item_cluster(features[item], cluster) for cluster in clusters])\n",
    "    p_clusters_user = np.array([cal_p_cluster_user(cal_p_user_cluster * cluster.weight, p_user, cluster.weight)\\\n",
    "                        for cluster in clusters])\n",
    "    return np.sum(np.dot(p_item_clusters, p_clusters_user))\n"
   ]
  },
  {
   "cell_type": "code",
   "execution_count": 106,
   "metadata": {
    "collapsed": true
   },
   "outputs": [],
   "source": [
    "#public\n",
    "def cal_logp_item_cluster(feature_item, cluster):\n",
    "    return multivariate_normal.logpdf(feature_item, mean = cluster.mean, cov = cluster.cov)\n",
    "\n",
    "#not public\n",
    "def cal_logp_user_cluster(user, features, cluster):\n",
    "    return np.sum([cal_logp_item_cluster(features[item], cluster) for item in user])\n",
    "\n",
    "#public\n",
    "def cal_ptrans_user(user, features, clusters):\n",
    "    return np.sum([cluster.weight * cal_logp_user_cluster(user, features, cluster) for cluster in clusters])\n",
    "\n",
    "#public\n",
    "def cal_ptrans_item_user(item, user, features, clusters):\n",
    "    return np.sum([cal_logp_item_cluster(features[item], cluster) + cal_logp_user_cluster(user, features, cluster)\\\n",
    "                   for cluster in clusters])"
   ]
  },
  {
   "cell_type": "code",
   "execution_count": 49,
   "metadata": {
    "collapsed": true
   },
   "outputs": [],
   "source": [
    "def  find_clusters(items, features, n_cluster):\n",
    "    '''\n",
    "        itemset: list indexes of images corresponding to video_img. Discard indexes where feature is None.\n",
    "        usr_list: |U| users, each user is a sets of items.\n",
    "        feature: gist or lab feature coressponding image in video_img.\n",
    "    '''\n",
    "    label_init = np.random.randint(0, n_cluster, len(item))\n",
    "\n",
    "    gmm = GaussianMixture(n_components=n_cluster, covariance_type = 'full', max_iter = 100, random_state=0)\n",
    "    gmm.means_init = np.array([features[items[label_init == i]].mean(axis=0) for i in range(n_cluster)])\n",
    "    gmm.fit(features[items])\n",
    "    label_pred = gmm.predict(features[items])\n",
    "    clusters = [np.where(label_pred == i)[0] for i in range(n_cluster)]\n",
    "\n",
    "#     means = gmm.means_\n",
    "#     covs = gmm.covariances_\n",
    "#     weights = gmm.weights_\n",
    "    return gmm"
   ]
  },
  {
   "cell_type": "code",
   "execution_count": 110,
   "metadata": {},
   "outputs": [],
   "source": [
    "def  validate(gmm, usr_list, features):\n",
    "    means, covs, weights = gmm.means_, gmm.covariances_, gmm.weights_\n",
    "    clusters = [Cluster(means[i], covs[i], weights[i]) for i in range(len(means))]\n",
    "    \n",
    "    p_users = []\n",
    "    for usr in usr_list:\n",
    "        p_user = cal_ptrans_user(usr, features, clusters)\n",
    "        p_users.append(p_user)\n",
    "        print p_user\n",
    "    return np.array(p_users).mean()"
   ]
  },
  {
   "cell_type": "markdown",
   "metadata": {},
   "source": [
    "## Run"
   ]
  },
  {
   "cell_type": "code",
   "execution_count": 64,
   "metadata": {},
   "outputs": [
    {
     "data": {
      "text/plain": [
       "GaussianMixture(covariance_type='full', init_params='kmeans', max_iter=100,\n",
       "        means_init=array([[ 0.,  0., ...,  0.,  0.],\n",
       "       [ 0.,  0., ...,  0.,  0.],\n",
       "       ...,\n",
       "       [ 0.,  0., ...,  0.,  0.],\n",
       "       [ 0.,  0., ...,  0.,  0.]]),\n",
       "        n_components=32, n_init=1, precisions_init=None, random_state=0,\n",
       "        reg_covar=1e-06, tol=0.001, verbose=0, verbose_interval=10,\n",
       "        warm_start=False, weights_init=None)"
      ]
     },
     "execution_count": 64,
     "metadata": {},
     "output_type": "execute_result"
    }
   ],
   "source": [
    "gmm_2 = find_clusters(item_list, data, n_cluster=32)\n",
    "gmm_2"
   ]
  },
  {
   "cell_type": "code",
   "execution_count": 89,
   "metadata": {},
   "outputs": [],
   "source": [
    "means, covs, weights = gmm_2.means_, gmm_2.covariances_, gmm_2.weights_\n",
    "clusters = [Cluster(means[i], covs[i], weights[i]) for i in range(len(means))]"
   ]
  },
  {
   "cell_type": "code",
   "execution_count": 95,
   "metadata": {},
   "outputs": [
    {
     "data": {
      "text/plain": [
       "4526.9292052694336"
      ]
     },
     "execution_count": 95,
     "metadata": {},
     "output_type": "execute_result"
    }
   ],
   "source": [
    "cal_logp_item_cluster(data[usr_list[0][0]], clusters[0])"
   ]
  },
  {
   "cell_type": "code",
   "execution_count": 107,
   "metadata": {},
   "outputs": [
    {
     "data": {
      "text/plain": [
       "472998.63464479242"
      ]
     },
     "execution_count": 107,
     "metadata": {},
     "output_type": "execute_result"
    }
   ],
   "source": [
    "cal_logp_user_cluster(usr_list[0], data, clusters[0])"
   ]
  },
  {
   "cell_type": "code",
   "execution_count": 108,
   "metadata": {},
   "outputs": [
    {
     "data": {
      "text/plain": [
       "392384.31955793931"
      ]
     },
     "execution_count": 108,
     "metadata": {},
     "output_type": "execute_result"
    }
   ],
   "source": [
    "cal_ptrans_user(usr_list[0], data, clusters)"
   ]
  },
  {
   "cell_type": "code",
   "execution_count": 111,
   "metadata": {
    "scrolled": false
   },
   "outputs": [
    {
     "name": "stdout",
     "output_type": "stream",
     "text": [
      "392384.319558\n",
      "314205.810518\n",
      "299090.478678\n",
      "202068.424607\n",
      "230049.645962\n",
      "390287.088361\n",
      "263943.913369\n",
      "403401.389305\n",
      "445415.490075\n",
      "33843.1426213\n",
      "235679.681302\n",
      "398419.124816\n",
      "367527.655899\n",
      "145188.558026\n",
      "194928.382271\n",
      "179157.603939\n",
      "128372.474097\n",
      "170788.825767\n",
      "424625.062028\n",
      "292889.644954\n",
      "318749.100627\n",
      "534260.815235\n",
      "288990.36177\n",
      "258740.684534\n",
      "557159.236121\n",
      "276399.055878\n",
      "190109.795127\n",
      "137016.248892\n",
      "299173.485426\n",
      "265234.161183\n",
      "540631.013162\n",
      "466453.087343\n",
      "129168.383486\n",
      "310602.611557\n",
      "206540.223168\n",
      "198102.48005\n",
      "574609.739254\n",
      "226906.200679\n",
      "358326.266361\n",
      "253820.737044\n",
      "130907.633849\n",
      "170219.896229\n",
      "203162.977415\n",
      "158509.307147\n",
      "11176.308331\n",
      "311770.491492\n",
      "166563.477099\n",
      "227952.907841\n",
      "308298.624537\n",
      "-2010.58397618\n",
      "255765.877661\n",
      "256191.582401\n",
      "251610.417371\n",
      "331866.298278\n",
      "216815.610887\n",
      "221326.520837\n",
      "61904.0880482\n",
      "569548.813299\n",
      "364566.645232\n",
      "381854.883014\n",
      "231577.524168\n",
      "302694.560673\n",
      "109561.536853\n",
      "270706.013756\n",
      "379052.044851\n",
      "353790.4654\n",
      "157878.774747\n",
      "173454.49208\n",
      "551852.795991\n",
      "280785.452118\n",
      "261288.668602\n",
      "-143542.151185\n",
      "430171.984155\n",
      "328225.315475\n",
      "20041.495864\n",
      "245238.455042\n",
      "337109.338069\n",
      "228871.438472\n",
      "210062.439411\n",
      "400123.394663\n",
      "309898.240677\n",
      "345678.543626\n",
      "217776.389896\n",
      "278879.067551\n",
      "257620.56489\n",
      "326373.722472\n",
      "-49842.7769855\n",
      "83550.0806397\n",
      "345786.333647\n",
      "44408.3264117\n",
      "274032.524299\n",
      "405196.167791\n",
      "6511.08542857\n",
      "250209.343367\n",
      "311245.955847\n",
      "159658.57415\n",
      "129545.978636\n",
      "176512.025109\n",
      "72809.6876955\n",
      "117248.912853\n",
      "259230.804994\n",
      "-87949.5972463\n",
      "338136.977042\n",
      "216675.849634\n",
      "356966.14014\n",
      "118667.724801\n",
      "415779.13624\n",
      "17941.7994805\n",
      "209385.484763\n",
      "357033.793384\n",
      "392825.855949\n",
      "311226.421904\n",
      "111757.252609\n",
      "320842.314947\n",
      "223451.399692\n",
      "253686.658761\n",
      "339844.032518\n",
      "148906.139886\n",
      "229316.520489\n",
      "86061.8849379\n",
      "156781.210063\n",
      "441948.778515\n",
      "67534.2215851\n",
      "-15542.4550028\n",
      "133359.041853\n",
      "90456.4075937\n",
      "-63744.3177017\n",
      "403706.341483\n",
      "355037.988946\n",
      "250331.654184\n",
      "203092.789184\n",
      "553497.618515\n",
      "212599.224983\n",
      "358141.454605\n",
      "576975.676706\n",
      "295993.078171\n",
      "259096.206148\n",
      "140372.033014\n",
      "177998.078005\n",
      "249867.67962\n",
      "459004.775663\n",
      "246703.090808\n",
      "164710.136246\n",
      "162887.599113\n",
      "172666.086895\n",
      "213587.5982\n",
      "528119.910908\n",
      "229272.329666\n",
      "326305.412104\n",
      "435540.768356\n",
      "305319.508414\n",
      "261574.146311\n",
      "326204.212844\n",
      "392620.720089\n",
      "265523.874754\n",
      "257860.000983\n",
      "21429.1314782\n",
      "180634.109986\n",
      "260992.329196\n",
      "181909.708015\n",
      "233247.176954\n",
      "418006.285573\n",
      "283796.236618\n",
      "158626.398213\n",
      "298182.459376\n",
      "306114.952697\n",
      "89499.4186635\n",
      "-7915.964981\n",
      "111692.88145\n",
      "392397.64088\n",
      "513606.089468\n",
      "357863.278397\n",
      "52285.7866071\n",
      "113056.540178\n",
      "501407.925799\n",
      "140974.31441\n",
      "226291.187574\n",
      "261558.160608\n",
      "53964.648815\n",
      "330340.437307\n",
      "221977.946087\n",
      "344261.461105\n",
      "354587.191034\n",
      "323327.813762\n",
      "101513.109098\n",
      "239284.553584\n",
      "-63631.4520812\n",
      "179491.322833\n",
      "119661.916837\n",
      "249233.890215\n",
      "304137.563793\n",
      "295469.145902\n",
      "305743.36679\n",
      "280591.27626\n",
      "237226.609386\n",
      "338513.897417\n",
      "258783.124759\n",
      "239554.880425\n",
      "377066.803584\n",
      "257695.69067\n",
      "269379.093781\n",
      "403694.512409\n",
      "139338.45445\n",
      "218414.463069\n",
      "274828.87176\n",
      "169392.615493\n",
      "134114.242955\n",
      "304676.180449\n",
      "339839.534439\n",
      "209608.266382\n",
      "251845.086591\n",
      "86032.8050991\n",
      "2835.84915425\n",
      "200229.691435\n",
      "380439.287464\n",
      "114495.750248\n",
      "362662.163412\n",
      "346014.616612\n",
      "215307.175402\n",
      "250721.083414\n",
      "257590.901428\n",
      "303382.981356\n",
      "245661.090629\n",
      "-63161.8085011\n",
      "246680.319433\n",
      "312550.180005\n",
      "296653.942102\n",
      "212945.606066\n",
      "320882.920607\n",
      "652708.150316\n",
      "97694.6941532\n",
      "307482.686261\n",
      "281039.639905\n",
      "163252.677062\n",
      "263954.627463\n",
      "110863.334548\n",
      "181574.830154\n",
      "429149.832273\n",
      "280023.024091\n",
      "376737.214249\n",
      "264853.431829\n",
      "195447.72449\n",
      "230813.148518\n",
      "73919.4957666\n",
      "241732.711279\n",
      "515458.608511\n",
      "296932.236069\n",
      "428034.867568\n",
      "355222.346027\n",
      "384675.52483\n",
      "458461.560454\n",
      "312986.721873\n",
      "256196.141553\n",
      "196427.569445\n",
      "447606.472501\n",
      "114325.781962\n",
      "441256.138739\n",
      "223456.204733\n",
      "321250.069626\n",
      "468809.829284\n",
      "251914.365383\n",
      "232860.663229\n",
      "557019.956503\n",
      "40800.2922979\n",
      "173886.367148\n",
      "242102.524689\n",
      "-226.032400189\n",
      "120026.335692\n",
      "104403.447404\n",
      "346712.565593\n",
      "188794.380695\n",
      "330057.403808\n",
      "201236.364043\n",
      "311422.632238\n",
      "352218.103858\n",
      "283657.526472\n",
      "261818.376253\n",
      "246275.789263\n",
      "259778.348949\n",
      "178101.542792\n",
      "186766.964505\n",
      "169185.473892\n",
      "268018.642356\n",
      "276564.925966\n",
      "18425.342532\n",
      "110413.384075\n",
      "112885.945618\n",
      "156710.478498\n",
      "287243.634703\n",
      "440599.2723\n",
      "68940.5491171\n",
      "204753.237853\n",
      "352283.273944\n",
      "213633.057062\n",
      "170243.423836\n",
      "283485.725896\n",
      "175436.269963\n",
      "115905.557618\n",
      "344093.500408\n",
      "162716.876727\n",
      "115343.18191\n",
      "465413.516843\n",
      "209986.519658\n",
      "435441.931665\n",
      "292777.212109\n",
      "310803.968648\n",
      "169374.18847\n",
      "367988.512879\n",
      "203767.975564\n",
      "261697.556838\n"
     ]
    },
    {
     "data": {
      "text/plain": [
       "252148.74166698457"
      ]
     },
     "execution_count": 111,
     "metadata": {},
     "output_type": "execute_result"
    }
   ],
   "source": [
    "validate(gmm_2, usr_list, data)"
   ]
  }
 ],
 "metadata": {
  "kernelspec": {
   "display_name": "Python 2",
   "language": "python",
   "name": "python2"
  },
  "language_info": {
   "codemirror_mode": {
    "name": "ipython",
    "version": 2
   },
   "file_extension": ".py",
   "mimetype": "text/x-python",
   "name": "python",
   "nbconvert_exporter": "python",
   "pygments_lexer": "ipython2",
   "version": "2.7.13"
  }
 },
 "nbformat": 4,
 "nbformat_minor": 2
}
